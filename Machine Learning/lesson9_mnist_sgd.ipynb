{
  "nbformat": 4,
  "nbformat_minor": 0,
  "metadata": {
    "colab": {
      "name": "lesson9_mnist_sgd.ipynb",
      "version": "0.3.2",
      "provenance": [],
      "collapsed_sections": [],
      "include_colab_link": true
    },
    "kernelspec": {
      "name": "python3",
      "display_name": "Python 3"
    },
    "accelerator": "GPU"
  },
  "cells": [
    {
      "cell_type": "markdown",
      "metadata": {
        "id": "view-in-github",
        "colab_type": "text"
      },
      "source": [
        "<a href=\"https://colab.research.google.com/github/Giffy/fast.ai/blob/master/Machine%20Learning/lesson9_mnist_sgd.ipynb\" target=\"_parent\"><img src=\"https://colab.research.google.com/assets/colab-badge.svg\" alt=\"Open In Colab\"/></a>"
      ]
    },
    {
      "metadata": {
        "id": "MSIqXzYLOV2R",
        "colab_type": "text"
      },
      "cell_type": "markdown",
      "source": [
        "##1 Using SGD on MNIST"
      ]
    },
    {
      "metadata": {
        "id": "05rqHDu3OV2W",
        "colab_type": "text"
      },
      "cell_type": "markdown",
      "source": [
        "##2 ... about machine learning (a reminder from lesson 1)"
      ]
    },
    {
      "metadata": {
        "id": "b5lvECXsOV2Z",
        "colab_type": "text"
      },
      "cell_type": "markdown",
      "source": [
        "##3 About The Data"
      ]
    },
    {
      "metadata": {
        "id": "TIUTry7YOV2X",
        "colab_type": "text"
      },
      "cell_type": "markdown",
      "source": [
        "The good news is that modern machine learning can be distilled down to a couple of key techniques that are of very wide applicability. Recent studies have shown that the vast majority of datasets can be best modeled with just two methods:\n",
        "\n",
        "1. Ensembles of decision trees (i.e. Random Forests and Gradient Boosting Machines), mainly for structured data (such as you might find in a database table at most companies).  We looked at random forests in depth as we analyzed the Blue Book for Bulldozers dataset.\n",
        "\n",
        "2. Multi-layered neural networks learnt with SGD (i.e. shallow and/or deep learning), mainly for unstructured data (such as audio, vision, and natural language)\n",
        "\n",
        "In this lesson, we will start on the 2nd approach (a neural network with SGD) by analyzing the MNIST dataset.  You may be surprised to learn that **logistic regression is actually an example of a simple neural net**!"
      ]
    },
    {
      "metadata": {
        "id": "XyQqKx_7OV2a",
        "colab_type": "text"
      },
      "cell_type": "markdown",
      "source": [
        "In this lesson, we will be working with MNIST, a classic data set of hand-written digits.  Solutions to this problem are used by banks to automatically recognize the amounts on checks, and by the postal service to automatically recognize zip codes on mail."
      ]
    },
    {
      "metadata": {
        "id": "FBUDScv5OV2b",
        "colab_type": "text"
      },
      "cell_type": "markdown",
      "source": [
        "<img src=\"https://raw.githubusercontent.com/Giffy/fast.ai/master/Machine%20Learning/imgs/mnist.png\" alt=\"\" style=\"width: 60%\"/>"
      ]
    },
    {
      "metadata": {
        "id": "S_I8-GJYOV2c",
        "colab_type": "text"
      },
      "cell_type": "markdown",
      "source": [
        "A matrix can represent an image, by creating a grid where each entry corresponds to a different pixel.\n",
        "\n",
        "<img src=\"https://raw.githubusercontent.com/Giffy/fast.ai/master/Machine%20Learning/imgs/digit.gif\" alt=\"digit\" style=\"width: 55%\"/>\n",
        "\n",
        "  (Source: [Adam Geitgey\n",
        "](https://medium.com/@ageitgey/machine-learning-is-fun-part-3-deep-learning-and-convolutional-neural-networks-f40359318721))\n"
      ]
    },
    {
      "metadata": {
        "id": "1mAyN4FMClsM",
        "colab_type": "text"
      },
      "cell_type": "markdown",
      "source": [
        "###3.0 Google Colab setup\n",
        "Installs fast.ai 0.7.0 and the required libraries to run the notebook.\n",
        "\n",
        "Also downloads the required datasets."
      ]
    },
    {
      "metadata": {
        "id": "gaaSesN3CjUV",
        "colab_type": "code",
        "outputId": "01ce5a53-cd26-4174-feb7-902dcb3170a8",
        "colab": {
          "base_uri": "https://localhost:8080/",
          "height": 228
        }
      },
      "cell_type": "code",
      "source": [
        "print (\" Installing FastAI libraries... (takes 2 min) \")\n",
        "!pip install fastai==0.7.0 > /dev/null\n",
        "print (\"\\n Installing required libraries...\")\n",
        "!pip install torchtext==0.2.3 > /dev/null\n",
        "!git clone https://github.com/fastai/fastai.git fastai_ml\n",
        "!ln -s fastai_ml/courses/ml1/fastai/ fastai"
      ],
      "execution_count": 1,
      "outputs": [
        {
          "output_type": "stream",
          "text": [
            " Installing FastAI libraries... (takes 2 min) \n",
            "\u001b[31mmizani 0.5.3 has requirement pandas>=0.23.4, but you'll have pandas 0.22.0 which is incompatible.\u001b[0m\n",
            "\u001b[31mplotnine 0.5.1 has requirement pandas>=0.23.4, but you'll have pandas 0.22.0 which is incompatible.\u001b[0m\n",
            "\n",
            " Installing required libraries...\n",
            "Cloning into 'fastai_ml'...\n",
            "remote: Enumerating objects: 26641, done.\u001b[K\n",
            "remote: Total 26641 (delta 0), reused 0 (delta 0), pack-reused 26641\u001b[K\n",
            "Receiving objects: 100% (26641/26641), 390.59 MiB | 28.12 MiB/s, done.\n",
            "Resolving deltas: 100% (19058/19058), done.\n",
            "Checking out files: 100% (777/777), done.\n"
          ],
          "name": "stdout"
        }
      ]
    },
    {
      "metadata": {
        "id": "HEXD3JG7OV2d",
        "colab_type": "text"
      },
      "cell_type": "markdown",
      "source": [
        "###3.1 Imports and data"
      ]
    },
    {
      "metadata": {
        "id": "43qOEFlmOV2O",
        "colab_type": "text"
      },
      "cell_type": "markdown",
      "source": [
        "**Important: This notebook will only work with fastai-0.7.x. Do not try to run any fastai-1.x code from this path in the repository because it will load fastai-0.7.x**"
      ]
    },
    {
      "metadata": {
        "id": "vS_ZAV5hOV2e",
        "colab_type": "text"
      },
      "cell_type": "markdown",
      "source": [
        "We will be using the fastai library, which is still in pre-alpha.  If you are accessing this course notebook, you probably already have it downloaded, as it is in the same Github repo as the course materials.\n",
        "\n",
        "We use [symbolic links](https://kb.iu.edu/d/abbe) (often called *symlinks*) to make it possible to import these from your current directory.  For instance, I ran:\n",
        "\n",
        "    ln -s ../../fastai\n",
        "    \n",
        "in the terminal, within the directory I'm working in, `home/fastai/courses/ml1`."
      ]
    },
    {
      "metadata": {
        "id": "lU23VzapOV2f",
        "colab_type": "code",
        "colab": {}
      },
      "cell_type": "code",
      "source": [
        "%load_ext autoreload\n",
        "%autoreload 2\n",
        "%matplotlib inline"
      ],
      "execution_count": 0,
      "outputs": []
    },
    {
      "metadata": {
        "id": "gl0vXTXZOcZ6",
        "colab_type": "code",
        "colab": {}
      },
      "cell_type": "code",
      "source": [
        "from fastai.imports import *\n",
        "from fastai.io import *\n",
        "from fastai.torch_imports import *\n",
        "import torch"
      ],
      "execution_count": 0,
      "outputs": []
    },
    {
      "metadata": {
        "id": "FoXP1JROodK4",
        "colab_type": "text"
      },
      "cell_type": "markdown",
      "source": [
        "###3.2 Download"
      ]
    },
    {
      "metadata": {
        "id": "1SZNVdnBOV2m",
        "colab_type": "text"
      },
      "cell_type": "markdown",
      "source": [
        "Let's download, unzip, and format the data."
      ]
    },
    {
      "metadata": {
        "id": "6kXjBmJJOV2l",
        "colab_type": "code",
        "colab": {}
      },
      "cell_type": "code",
      "source": [
        "path = 'data/mnist/'"
      ],
      "execution_count": 0,
      "outputs": []
    },
    {
      "metadata": {
        "id": "FBc9wctHOV2n",
        "colab_type": "code",
        "colab": {}
      },
      "cell_type": "code",
      "source": [
        "import os\n",
        "os.makedirs(path, exist_ok=True)"
      ],
      "execution_count": 0,
      "outputs": []
    },
    {
      "metadata": {
        "id": "Ct1lVCteOV2p",
        "colab_type": "code",
        "colab": {}
      },
      "cell_type": "code",
      "source": [
        "URL='http://deeplearning.net/data/mnist/'\n",
        "FILENAME='mnist.pkl.gz'\n",
        "\n",
        "def load_mnist(filename):\n",
        "    return pickle.load(gzip.open(filename, 'rb'), encoding='latin-1')"
      ],
      "execution_count": 0,
      "outputs": []
    },
    {
      "metadata": {
        "id": "MOUsY2sUOV2q",
        "colab_type": "code",
        "colab": {
          "base_uri": "https://localhost:8080/",
          "height": 34
        },
        "outputId": "56eab7c1-bd18-41ed-8f2c-848e4038750c"
      },
      "cell_type": "code",
      "source": [
        "get_data(URL+FILENAME, path+FILENAME)\n",
        "((x, y), (x_valid, y_valid), _) = load_mnist(path+FILENAME)"
      ],
      "execution_count": 7,
      "outputs": [
        {
          "output_type": "stream",
          "text": [
            "mnist.pkl.gz: 16.2MB [00:02, 6.42MB/s]                           \n"
          ],
          "name": "stderr"
        }
      ]
    },
    {
      "metadata": {
        "id": "NZswWgE9OV2s",
        "colab_type": "code",
        "outputId": "bc0a8d21-3ebe-44b0-8a05-5158fd7fe15d",
        "colab": {
          "base_uri": "https://localhost:8080/",
          "height": 34
        }
      },
      "cell_type": "code",
      "source": [
        "type(x), x.shape, type(y), y.shape"
      ],
      "execution_count": 8,
      "outputs": [
        {
          "output_type": "execute_result",
          "data": {
            "text/plain": [
              "(numpy.ndarray, (50000, 784), numpy.ndarray, (50000,))"
            ]
          },
          "metadata": {
            "tags": []
          },
          "execution_count": 8
        }
      ]
    },
    {
      "metadata": {
        "id": "ygo7pRwDOV2w",
        "colab_type": "text"
      },
      "cell_type": "markdown",
      "source": [
        "###3.3 Normalize"
      ]
    },
    {
      "metadata": {
        "id": "44AiG7d4OV2x",
        "colab_type": "text"
      },
      "cell_type": "markdown",
      "source": [
        "Many machine learning algorithms behave better when the data is *normalized*, that is when the mean is 0 and the standard deviation is 1. We will subtract off the mean and standard deviation from our training set in order to normalize the data:"
      ]
    },
    {
      "metadata": {
        "id": "xmSpd-vjOV2x",
        "colab_type": "code",
        "outputId": "12f303b3-5392-4d44-ffc4-b2e6c245ab62",
        "colab": {
          "base_uri": "https://localhost:8080/",
          "height": 34
        }
      },
      "cell_type": "code",
      "source": [
        "mean = x.mean()\n",
        "std = x.std()\n",
        "\n",
        "x=(x-mean)/std\n",
        "mean, std, x.mean(), x.std()"
      ],
      "execution_count": 9,
      "outputs": [
        {
          "output_type": "execute_result",
          "data": {
            "text/plain": [
              "(0.13044983, 0.3072898, -3.1638146e-07, 0.99999934)"
            ]
          },
          "metadata": {
            "tags": []
          },
          "execution_count": 9
        }
      ]
    },
    {
      "metadata": {
        "id": "RrNdscRgOV2z",
        "colab_type": "text"
      },
      "cell_type": "markdown",
      "source": [
        "Note that for consistency (with the parameters we learn when training), we subtract the mean and standard deviation of our training set from our validation set. "
      ]
    },
    {
      "metadata": {
        "id": "InN79F-zOV2z",
        "colab_type": "code",
        "outputId": "8db6a85c-4003-46ba-d6f4-b65604ecfd49",
        "colab": {
          "base_uri": "https://localhost:8080/",
          "height": 34
        }
      },
      "cell_type": "code",
      "source": [
        "x_valid = (x_valid-mean)/std\n",
        "x_valid.mean(), x_valid.std()"
      ],
      "execution_count": 10,
      "outputs": [
        {
          "output_type": "execute_result",
          "data": {
            "text/plain": [
              "(-0.005850922, 0.99243325)"
            ]
          },
          "metadata": {
            "tags": []
          },
          "execution_count": 10
        }
      ]
    },
    {
      "metadata": {
        "id": "PMzuZRKrOV21",
        "colab_type": "text"
      },
      "cell_type": "markdown",
      "source": [
        "###3.4 Look at the data"
      ]
    },
    {
      "metadata": {
        "id": "bk09IUFKOV22",
        "colab_type": "text"
      },
      "cell_type": "markdown",
      "source": [
        "In any sort of data science work, it's important to look at your data, to make sure you understand the format, how it's stored, what type of values it holds, etc. To make it easier to work with, let's reshape it into 2d images from the flattened 1d format."
      ]
    },
    {
      "metadata": {
        "id": "Dtuwr5vJOV22",
        "colab_type": "text"
      },
      "cell_type": "markdown",
      "source": [
        "####3.4.1 Helper methods"
      ]
    },
    {
      "metadata": {
        "id": "XKp_5YRGOV23",
        "colab_type": "code",
        "colab": {}
      },
      "cell_type": "code",
      "source": [
        "def show(img, title=None):\n",
        "    plt.imshow(img, cmap=\"gray\")\n",
        "    if title is not None: plt.title(title)"
      ],
      "execution_count": 0,
      "outputs": []
    },
    {
      "metadata": {
        "id": "iKgBAi63OV24",
        "colab_type": "code",
        "colab": {}
      },
      "cell_type": "code",
      "source": [
        "def plots(ims, figsize=(12,6), rows=2, titles=None):\n",
        "    f = plt.figure(figsize=figsize)\n",
        "    cols = len(ims)//rows\n",
        "    for i in range(len(ims)):\n",
        "        sp = f.add_subplot(rows, cols, i+1)\n",
        "        sp.axis('Off')\n",
        "        if titles is not None: sp.set_title(titles[i], fontsize=16)\n",
        "        plt.imshow(ims[i], cmap='gray')"
      ],
      "execution_count": 0,
      "outputs": []
    },
    {
      "metadata": {
        "id": "z13L4jE-OV25",
        "colab_type": "text"
      },
      "cell_type": "markdown",
      "source": [
        "####3.4.2 Plots "
      ]
    },
    {
      "metadata": {
        "id": "cpaniXLpOV26",
        "colab_type": "code",
        "outputId": "652e0067-a2f0-45f0-8bfb-f3b63317af5e",
        "colab": {
          "base_uri": "https://localhost:8080/",
          "height": 34
        }
      },
      "cell_type": "code",
      "source": [
        "x_valid.shape"
      ],
      "execution_count": 13,
      "outputs": [
        {
          "output_type": "execute_result",
          "data": {
            "text/plain": [
              "(10000, 784)"
            ]
          },
          "metadata": {
            "tags": []
          },
          "execution_count": 13
        }
      ]
    },
    {
      "metadata": {
        "id": "d_NrJd5VOV27",
        "colab_type": "code",
        "outputId": "772acffb-d718-4e53-971b-e69fea0385f3",
        "colab": {
          "base_uri": "https://localhost:8080/",
          "height": 34
        }
      },
      "cell_type": "code",
      "source": [
        "x_imgs = np.reshape(x_valid, (-1,28,28)); x_imgs.shape"
      ],
      "execution_count": 14,
      "outputs": [
        {
          "output_type": "execute_result",
          "data": {
            "text/plain": [
              "(10000, 28, 28)"
            ]
          },
          "metadata": {
            "tags": []
          },
          "execution_count": 14
        }
      ]
    },
    {
      "metadata": {
        "id": "oA28P50uOV29",
        "colab_type": "code",
        "outputId": "a6c9badd-1143-470a-b68c-271fcd4302d0",
        "colab": {
          "base_uri": "https://localhost:8080/",
          "height": 280
        }
      },
      "cell_type": "code",
      "source": [
        "show(x_imgs[0], y_valid[0])"
      ],
      "execution_count": 15,
      "outputs": [
        {
          "output_type": "display_data",
          "data": {
            "image/png": "[encoded data removed]",
            "text/plain": [
              "<Figure size 432x288 with 1 Axes>"
            ]
          },
          "metadata": {
            "tags": []
          }
        }
      ]
    },
    {
      "metadata": {
        "id": "kPHMrsosOV2_",
        "colab_type": "code",
        "outputId": "d48190b6-371e-424f-86b2-c075f6066345",
        "colab": {
          "base_uri": "https://localhost:8080/",
          "height": 34
        }
      },
      "cell_type": "code",
      "source": [
        "y_valid.shape"
      ],
      "execution_count": 16,
      "outputs": [
        {
          "output_type": "execute_result",
          "data": {
            "text/plain": [
              "(10000,)"
            ]
          },
          "metadata": {
            "tags": []
          },
          "execution_count": 16
        }
      ]
    },
    {
      "metadata": {
        "id": "1ClX71rJOV3C",
        "colab_type": "text"
      },
      "cell_type": "markdown",
      "source": [
        "It's the digit 3!  And that's stored in the y value:"
      ]
    },
    {
      "metadata": {
        "id": "P-2rUmM5OV3C",
        "colab_type": "code",
        "outputId": "022aa8e4-09b8-4190-bb64-54239d3e5f26",
        "colab": {
          "base_uri": "https://localhost:8080/",
          "height": 34
        }
      },
      "cell_type": "code",
      "source": [
        "y_valid[0]"
      ],
      "execution_count": 17,
      "outputs": [
        {
          "output_type": "execute_result",
          "data": {
            "text/plain": [
              "3"
            ]
          },
          "metadata": {
            "tags": []
          },
          "execution_count": 17
        }
      ]
    },
    {
      "metadata": {
        "id": "eRgIWEJTOV3G",
        "colab_type": "text"
      },
      "cell_type": "markdown",
      "source": [
        "We can look at part of an image:"
      ]
    },
    {
      "metadata": {
        "id": "oRk-sjddOV3G",
        "colab_type": "code",
        "outputId": "ca89f900-7849-4025-f6f4-33a040f4cf5c",
        "colab": {
          "base_uri": "https://localhost:8080/",
          "height": 104
        }
      },
      "cell_type": "code",
      "source": [
        "x_imgs[0,10:15,10:15]"
      ],
      "execution_count": 18,
      "outputs": [
        {
          "output_type": "execute_result",
          "data": {
            "text/plain": [
              "array([[-0.42452, -0.42452, -0.42452, -0.42452,  0.17294],\n",
              "       [-0.42452, -0.42452, -0.42452,  0.78312,  2.43567],\n",
              "       [-0.42452, -0.27197,  1.20261,  2.77889,  2.80432],\n",
              "       [-0.42452,  1.76194,  2.80432,  2.80432,  1.73651],\n",
              "       [-0.42452,  2.20685,  2.80432,  2.80432,  0.40176]], dtype=float32)"
            ]
          },
          "metadata": {
            "tags": []
          },
          "execution_count": 18
        }
      ]
    },
    {
      "metadata": {
        "id": "i5Q8oCvkOV3H",
        "colab_type": "code",
        "outputId": "3139fed2-56d0-4fc0-cc19-d6cf06762fc9",
        "colab": {
          "base_uri": "https://localhost:8080/",
          "height": 265
        }
      },
      "cell_type": "code",
      "source": [
        "show(x_imgs[0,10:15,10:15])"
      ],
      "execution_count": 19,
      "outputs": [
        {
          "output_type": "display_data",
          "data": {
            "image/png": "[encoded data removed]",
            "text/plain": [
              "<Figure size 432x288 with 1 Axes>"
            ]
          },
          "metadata": {
            "tags": []
          }
        }
      ]
    },
    {
      "metadata": {
        "id": "CwYZESPiOV3J",
        "colab_type": "code",
        "outputId": "e40aec31-ea4d-437b-8cb4-6dedf30288ee",
        "colab": {
          "base_uri": "https://localhost:8080/",
          "height": 409
        }
      },
      "cell_type": "code",
      "source": [
        "plots(x_imgs[:8], titles=y_valid[:8])"
      ],
      "execution_count": 20,
      "outputs": [
        {
          "output_type": "display_data",
          "data": {
            "image/png": "[encoded data removed]",
            "text/plain": [
              "<Figure size 864x432 with 8 Axes>"
            ]
          },
          "metadata": {
            "tags": []
          }
        }
      ]
    },
    {
      "metadata": {
        "id": "N-q7Q3SaOV3K",
        "colab_type": "text"
      },
      "cell_type": "markdown",
      "source": [
        "##4 Neural Networks"
      ]
    },
    {
      "metadata": {
        "id": "yhMfT7LAOV3L",
        "colab_type": "text"
      },
      "cell_type": "markdown",
      "source": [
        "We will take a deep look *logistic regression* and how we can program it ourselves. We are going to treat it as a specific example of a shallow neural net."
      ]
    },
    {
      "metadata": {
        "id": "ForYAXPzOV3L",
        "colab_type": "text"
      },
      "cell_type": "markdown",
      "source": [
        "**What is a neural network?**\n",
        "\n",
        "A *neural network* is an *infinitely flexible function*, consisting of *layers*.  A *layer* is a linear function such as matrix multiplication followed by a non-linear function (the *activation*).\n",
        "\n",
        "One of the tricky parts of neural networks is just keeping track of all the vocabulary! "
      ]
    },
    {
      "metadata": {
        "id": "HDKLCX_sOV3M",
        "colab_type": "text"
      },
      "cell_type": "markdown",
      "source": [
        "###4.1 Functions, parameters, and training"
      ]
    },
    {
      "metadata": {
        "id": "x2PbesKNOV3M",
        "colab_type": "text"
      },
      "cell_type": "markdown",
      "source": [
        "A **function** takes inputs and returns outputs. For instance, $f(x) = 3x + 5$ is an example of a function.  If we input $2$, the output is $3\\times 2 + 5 = 11$, or if we input $-1$, the output is $3\\times -1 + 5 = 2$\n",
        "\n",
        "Functions have **parameters**. The above function $f$ is $ax + b$, with parameters a and b set to $a=3$ and $b=5$.\n",
        "\n",
        "Machine learning is often about learning the best values for those parameters.  For instance, suppose we have the data points on the chart below.  What values should we choose for $a$ and $b$?"
      ]
    },
    {
      "metadata": {
        "id": "fXgGftUeOV3M",
        "colab_type": "text"
      },
      "cell_type": "markdown",
      "source": [
        "<img src=\"https://raw.githubusercontent.com/Giffy/fast.ai/master/Machine%20Learning/imgs/sgd2.gif\" alt=\"\" style=\"width: 70%\"/>"
      ]
    },
    {
      "metadata": {
        "id": "drnVGxw0OV3N",
        "colab_type": "text"
      },
      "cell_type": "markdown",
      "source": [
        "In the above gif from fast.ai's deep learning course, [intro to SGD notebook](https://github.com/fastai/courses/blob/master/deeplearning1/nbs/sgd-intro.ipynb)), an algorithm called stochastic gradient descent is being used to learn the best parameters to fit the line to the data (note: in the gif, the algorithm is stopping before the absolute best parameters are found).  This process is called **training** or **fitting**.\n",
        "\n",
        "Most datasets will not be well-represented by a line.  We could use a more complicated function, such as $g(x) = ax^2 + bx + c + \\sin d$.  Now we have 4 parameters to learn: $a$, $b$, $c$, and $d$.  This function is more flexible than $f(x) = ax + b$ and will be able to accurately model more datasets.\n",
        "\n",
        "Neural networks take this to an extreme, and are infinitely flexible.  They often have thousands, or even hundreds of thousands of parameters.  However the core idea is the same as above.  The neural network is a function, and we will learn the best parameters for modeling our data."
      ]
    },
    {
      "metadata": {
        "id": "jc2sf-MMOV3N",
        "colab_type": "text"
      },
      "cell_type": "markdown",
      "source": [
        "##5 PyTorch"
      ]
    },
    {
      "metadata": {
        "id": "oZzkXt5NOV3N",
        "colab_type": "text"
      },
      "cell_type": "markdown",
      "source": [
        "We will be using the open source [deep learning library, fastai](https://github.com/fastai/fastai), which provides high level abstractions and best practices on top of PyTorch.  This is the highest level, simplest way to get started with deep learning. Please note that fastai requires Python 3 to function. It is currently in pre-alpha, so items may move around and more documentation will be added in the future.\n",
        "\n",
        "The fastai deep learning library uses [PyTorch](http://pytorch.org/), a Python framework for dynamic neural networks with GPU acceleration, which was released by Facebook's AI team.\n",
        "\n",
        "PyTorch has two overlapping, yet distinct, purposes.  As described in the [PyTorch documentation](http://pytorch.org/tutorials/beginner/blitz/tensor_tutorial.html):\n",
        "\n",
        "<img src=\"https://raw.githubusercontent.com/Giffy/fast.ai/master/Machine%20Learning/imgs/what_is_pytorch.png\" alt=\"pytorch\" style=\"width: 80%\"/>\n",
        "\n",
        "The neural network functionality of PyTorch is built on top of the Numpy-like functionality for fast matrix computations on a GPU. Although the neural network purpose receives way more attention, both are very useful.  We'll implement a neural net from scratch today using PyTorch.\n",
        "\n",
        "**Further learning**: If you are curious to learn what *dynamic* neural networks are, you may want to watch [this talk](https://www.youtube.com/watch?v=Z15cBAuY7Sc) by Soumith Chintala, Facebook AI researcher and core PyTorch contributor.\n",
        "\n",
        "If you want to learn more PyTorch, you can try this [introductory tutorial](http://pytorch.org/tutorials/beginner/deep_learning_60min_blitz.html) or this [tutorial to learn by examples](http://pytorch.org/tutorials/beginner/pytorch_with_examples.html)."
      ]
    },
    {
      "metadata": {
        "id": "hnwvG3k9OV3N",
        "colab_type": "text"
      },
      "cell_type": "markdown",
      "source": [
        "###5.1 About GPUs"
      ]
    },
    {
      "metadata": {
        "id": "8mjD5XbDOV3O",
        "colab_type": "text"
      },
      "cell_type": "markdown",
      "source": [
        "Graphical processing units (GPUs) allow for matrix computations to be done with much greater speed, as long as you have a library such as PyTorch that takes advantage of them.  Advances in GPU technology in the last 10-20 years have been a key part of why neural networks are proving so much more powerful now than they did a few decades ago. \n",
        "\n",
        "You may own a computer that has a GPU which can be used.  For the many people that either don't have a GPU (or have a GPU which can't be easily accessed by Python), there are a few differnt options:\n",
        "\n",
        "- **Don't use a GPU**: For the sake of this tutorial, you don't have to use a GPU, although some computations will be slower.\n",
        "- **Use crestle, through your browser**: [Crestle](https://www.crestle.com/) is a service that gives you an already set up cloud service with all the popular scientific and deep learning frameworks already pre-installed and configured to run on a GPU in the cloud. It is easily accessed through your browser. New users get 10 hours and 1 GB of storage for free. After this, GPU usage is 34 cents per hour. I recommend this option to those who are new to AWS or new to using the console.\n",
        "- **Set up an AWS instance through your console**: You can create an AWS instance with a GPU by following the steps in this  [fast.ai setup lesson](http://course.fast.ai/lessons/aws.html).]  AWS charges 90 cents per hour for this."
      ]
    },
    {
      "metadata": {
        "id": "Mu4aRvu0OV3O",
        "colab_type": "text"
      },
      "cell_type": "markdown",
      "source": [
        "##6 Neural Net for Logistic Regression in PyTorch"
      ]
    },
    {
      "metadata": {
        "id": "ruQxbvj6OV3P",
        "colab_type": "text"
      },
      "cell_type": "markdown",
      "source": [
        "We will begin with the highest level abstraction: using a neural net defined by PyTorch's Sequential class.  "
      ]
    },
    {
      "metadata": {
        "id": "rbqeoWZvqiP0",
        "colab_type": "code",
        "colab": {}
      },
      "cell_type": "code",
      "source": [
        "net = nn.Sequential(\n",
        "    nn.Linear(28*28, 10),\n",
        "    nn.LogSoftmax()\n",
        ").cuda()"
      ],
      "execution_count": 0,
      "outputs": []
    },
    {
      "metadata": {
        "id": "MlQ2HsFGOV3Q",
        "colab_type": "code",
        "colab": {}
      },
      "cell_type": "code",
      "source": [
        "net = nn.Sequential(\n",
        "    nn.Linear(28*28, 100),\n",
        "    nn.ReLU(),\n",
        "    nn.Linear(100, 100),\n",
        "    nn.ReLU(),\n",
        "    nn.Linear(100, 10),\n",
        "    nn.LogSoftmax()\n",
        ").cuda()"
      ],
      "execution_count": 0,
      "outputs": []
    },
    {
      "metadata": {
        "id": "fzJzBpS0OV3O",
        "colab_type": "code",
        "colab": {}
      },
      "cell_type": "code",
      "source": [
        "from fastai.metrics import *\n",
        "from fastai.model import *\n",
        "from fastai.dataset import *\n",
        "\n",
        "import torch.nn as nn"
      ],
      "execution_count": 0,
      "outputs": []
    },
    {
      "metadata": {
        "id": "9P0rziy1OV3Q",
        "colab_type": "text"
      },
      "cell_type": "markdown",
      "source": [
        "Each input is a vector of size `28*28` pixels and our output is of size `10` (since there are 10 digits: 0, 1, ..., 9). \n",
        "\n",
        "We use the output of the final layer to generate our predictions.  Often for classification problems (like MNIST digit classification), the final layer has the same number of outputs as there are classes.  In that case, this is 10: one for each digit from 0 to 9.  These can be converted to comparative probabilities.  For instance, it may be determined that a particular hand-written image is 80% likely to be a 4, 18% likely to be a 9, and 2% likely to be a 3."
      ]
    },
    {
      "metadata": {
        "id": "fgNJAf2WOV3R",
        "colab_type": "code",
        "colab": {}
      },
      "cell_type": "code",
      "source": [
        "md = ImageClassifierData.from_arrays(path, (x,y), (x_valid, y_valid))"
      ],
      "execution_count": 0,
      "outputs": []
    },
    {
      "metadata": {
        "id": "YjPiYby-q0dK",
        "colab_type": "code",
        "colab": {}
      },
      "cell_type": "code",
      "source": [
        "loss=nn.NLLLoss()\n",
        "metrics=[accuracy]\n",
        "opt=optim.Adam(net.parameters())"
      ],
      "execution_count": 0,
      "outputs": []
    },
    {
      "metadata": {
        "id": "zfU4WDW1OV3R",
        "colab_type": "code",
        "colab": {}
      },
      "cell_type": "code",
      "source": [
        "loss=nn.NLLLoss()\n",
        "metrics=[accuracy]\n",
        "# opt=optim.SGD(net.parameters(), 1e-1, momentum=0.9)\n",
        "opt=optim.SGD(net.parameters(), 1e-1, momentum=0.9, weight_decay=1e-3)"
      ],
      "execution_count": 0,
      "outputs": []
    },
    {
      "metadata": {
        "id": "01Pwn7UeOV3S",
        "colab_type": "text"
      },
      "cell_type": "markdown",
      "source": [
        "##7 Loss functions and metrics"
      ]
    },
    {
      "metadata": {
        "id": "S2xal7_cOV3S",
        "colab_type": "text"
      },
      "cell_type": "markdown",
      "source": [
        "In machine learning the **loss** function or cost function is representing the price paid for inaccuracy of predictions.\n",
        "\n",
        "The loss associated with one example in binary classification is given by:\n",
        "`-(y * log(p) + (1-y) * log (1-p))`\n",
        "where `y` is the true label of `x` and `p` is the probability predicted by our model that the label is 1."
      ]
    },
    {
      "metadata": {
        "id": "Ke78c1E1OV3T",
        "colab_type": "code",
        "colab": {}
      },
      "cell_type": "code",
      "source": [
        "def binary_loss(y, p):\n",
        "    return np.mean(-(y * np.log(p) + (1-y)*np.log(1-p)))"
      ],
      "execution_count": 0,
      "outputs": []
    },
    {
      "metadata": {
        "id": "JHNgJNpwOV3T",
        "colab_type": "code",
        "outputId": "c9bbf484-8d39-4189-b14c-6ff559448a26",
        "colab": {
          "base_uri": "https://localhost:8080/",
          "height": 34
        }
      },
      "cell_type": "code",
      "source": [
        "acts = np.array([1, 0, 0, 1])\n",
        "preds = np.array([0.9, 0.1, 0.2, 0.8])\n",
        "binary_loss(acts, preds)"
      ],
      "execution_count": 28,
      "outputs": [
        {
          "output_type": "execute_result",
          "data": {
            "text/plain": [
              "0.164252033486018"
            ]
          },
          "metadata": {
            "tags": []
          },
          "execution_count": 28
        }
      ]
    },
    {
      "metadata": {
        "id": "wd3cPru7OV3V",
        "colab_type": "text"
      },
      "cell_type": "markdown",
      "source": [
        "Note that in our toy example above our accuracy is 100% and our loss is 0.16. Compare that to a loss of 0.03 that we are getting while predicting cats and dogs. Exercise: play with `preds` to get a lower loss for this example. \n",
        "\n",
        "**Example:** Here is an example on how to compute the loss for one example of binary classification problem. Suppose for an image x with label 1 and your model gives it a prediction of 0.9. For this case the loss should be small because our model is predicting a label $1$ with high probability.\n",
        "\n",
        "`loss = -log(0.9) = 0.10`\n",
        "\n",
        "Now suppose x has label 0 but our model is predicting 0.9. In this case our loss is should be much larger.\n",
        "\n",
        "`loss = -log(1-0.9) = 2.30`\n",
        "\n",
        "- Exercise: look at the other cases and convince yourself that this make sense.\n",
        "- Exercise: how would you rewrite `binary_loss` using `if` instead of `*` and `+`?\n",
        "\n",
        "Why not just maximize accuracy? The binary classification loss is an easier function to optimize.\n",
        "\n",
        "For multi-class classification, we use *negative log liklihood* (also known as *categorical cross entropy*) which is exactly the same thing, but summed up over all classes."
      ]
    },
    {
      "metadata": {
        "id": "d1lJLHTFOV3V",
        "colab_type": "text"
      },
      "cell_type": "markdown",
      "source": [
        "##8 Fitting the model"
      ]
    },
    {
      "metadata": {
        "id": "Oh4bphthOV3V",
        "colab_type": "text"
      },
      "cell_type": "markdown",
      "source": [
        "*Fitting* is the process by which the neural net learns the best parameters for the dataset."
      ]
    },
    {
      "metadata": {
        "id": "InU3Sr5MrtLZ",
        "colab_type": "code",
        "outputId": "cbe6ce4d-5920-40fd-a9f3-e97f64b0a77e",
        "colab": {
          "base_uri": "https://localhost:8080/",
          "height": 121
        }
      },
      "cell_type": "code",
      "source": [
        "fit(net, md, n_epochs=1, crit=loss, opt=opt, metrics=metrics)"
      ],
      "execution_count": 29,
      "outputs": [
        {
          "output_type": "display_data",
          "data": {
            "application/vnd.jupyter.widget-view+json": {
              "model_id": "d0e56d43487344b9991e371b646be35a",
              "version_minor": 0,
              "version_major": 2
            },
            "text/plain": [
              "HBox(children=(IntProgress(value=0, description='Epoch', max=1, style=ProgressStyle(description_width='initial…"
            ]
          },
          "metadata": {
            "tags": []
          }
        },
        {
          "output_type": "stream",
          "text": [
            "epoch      trn_loss   val_loss   accuracy   \n",
            "    0      0.270189   0.24076    0.9344    \n",
            "\n"
          ],
          "name": "stdout"
        },
        {
          "output_type": "execute_result",
          "data": {
            "text/plain": [
              "[array([0.24076]), 0.9344]"
            ]
          },
          "metadata": {
            "tags": []
          },
          "execution_count": 29
        }
      ]
    },
    {
      "metadata": {
        "id": "6-AbPSlIOV3V",
        "colab_type": "code",
        "outputId": "a2274420-1645-400a-e404-4ff3b4db175b",
        "colab": {
          "base_uri": "https://localhost:8080/",
          "height": 191
        }
      },
      "cell_type": "code",
      "source": [
        "fit(net, md, n_epochs=5, crit=loss, opt=opt, metrics=metrics)"
      ],
      "execution_count": 30,
      "outputs": [
        {
          "output_type": "display_data",
          "data": {
            "application/vnd.jupyter.widget-view+json": {
              "model_id": "a6b6525b34b442c5a6a61193efc20ab5",
              "version_minor": 0,
              "version_major": 2
            },
            "text/plain": [
              "HBox(children=(IntProgress(value=0, description='Epoch', max=5, style=ProgressStyle(description_width='initial…"
            ]
          },
          "metadata": {
            "tags": []
          }
        },
        {
          "output_type": "stream",
          "text": [
            "epoch      trn_loss   val_loss   accuracy   \n",
            "    0      0.238773   0.229026   0.9403    \n",
            "    1      0.243399   0.202832   0.9446    \n",
            "    2      0.189792   0.177938   0.949     \n",
            "    3      0.215922   0.175436   0.9515    \n",
            "    4      0.19344    0.164569   0.955     \n",
            "\n"
          ],
          "name": "stdout"
        },
        {
          "output_type": "execute_result",
          "data": {
            "text/plain": [
              "[array([0.16457]), 0.955]"
            ]
          },
          "metadata": {
            "tags": []
          },
          "execution_count": 30
        }
      ]
    },
    {
      "metadata": {
        "id": "cmizWbToOV3X",
        "colab_type": "code",
        "colab": {}
      },
      "cell_type": "code",
      "source": [
        "set_lrs(opt, 1e-2)"
      ],
      "execution_count": 0,
      "outputs": []
    },
    {
      "metadata": {
        "id": "qmSBuk3QOV3Y",
        "colab_type": "code",
        "outputId": "726c3bd6-4ac3-48eb-80d8-6febac781371",
        "colab": {
          "base_uri": "https://localhost:8080/",
          "height": 156
        }
      },
      "cell_type": "code",
      "source": [
        "fit(net, md, n_epochs=3, crit=loss, opt=opt, metrics=metrics)"
      ],
      "execution_count": 32,
      "outputs": [
        {
          "output_type": "display_data",
          "data": {
            "application/vnd.jupyter.widget-view+json": {
              "model_id": "574768bfea274c2d8fd4e4b74584f5a9",
              "version_minor": 0,
              "version_major": 2
            },
            "text/plain": [
              "HBox(children=(IntProgress(value=0, description='Epoch', max=3, style=ProgressStyle(description_width='initial…"
            ]
          },
          "metadata": {
            "tags": []
          }
        },
        {
          "output_type": "stream",
          "text": [
            "epoch      trn_loss   val_loss   accuracy   \n",
            "    0      0.069519   0.089421   0.9729    \n",
            "    1      0.055673   0.085064   0.9738    \n",
            "    2      0.045167   0.081711   0.9751    \n",
            "\n"
          ],
          "name": "stdout"
        },
        {
          "output_type": "execute_result",
          "data": {
            "text/plain": [
              "[array([0.08171]), 0.9751]"
            ]
          },
          "metadata": {
            "tags": []
          },
          "execution_count": 32
        }
      ]
    },
    {
      "metadata": {
        "id": "LPFff2Y6OV3a",
        "colab_type": "code",
        "outputId": "8ce68106-dc93-4710-9dda-0876f70e306e",
        "colab": {
          "base_uri": "https://localhost:8080/",
          "height": 191
        }
      },
      "cell_type": "code",
      "source": [
        "fit(net, md, n_epochs=5, crit=loss, opt=opt, metrics=metrics)"
      ],
      "execution_count": 33,
      "outputs": [
        {
          "output_type": "display_data",
          "data": {
            "application/vnd.jupyter.widget-view+json": {
              "model_id": "ae42ab22ef214aba98b78149e5e99496",
              "version_minor": 0,
              "version_major": 2
            },
            "text/plain": [
              "HBox(children=(IntProgress(value=0, description='Epoch', max=5, style=ProgressStyle(description_width='initial…"
            ]
          },
          "metadata": {
            "tags": []
          }
        },
        {
          "output_type": "stream",
          "text": [
            "epoch      trn_loss   val_loss   accuracy   \n",
            "    0      0.034292   0.078527   0.9761    \n",
            "    1      0.035569   0.076599   0.9763    \n",
            "    2      0.033014   0.073589   0.9763    \n",
            "    3      0.031105   0.077011   0.9752    \n",
            "    4      0.028714   0.075847   0.9765    \n",
            "\n"
          ],
          "name": "stdout"
        },
        {
          "output_type": "execute_result",
          "data": {
            "text/plain": [
              "[array([0.07585]), 0.9765]"
            ]
          },
          "metadata": {
            "tags": []
          },
          "execution_count": 33
        }
      ]
    },
    {
      "metadata": {
        "id": "8hMVI4CvOV3b",
        "colab_type": "code",
        "colab": {}
      },
      "cell_type": "code",
      "source": [
        "set_lrs(opt, 1e-2)"
      ],
      "execution_count": 0,
      "outputs": []
    },
    {
      "metadata": {
        "id": "kNsPrjSROV3c",
        "colab_type": "code",
        "outputId": "7a7926cf-e1d8-45e2-84a4-c8e523d8b322",
        "colab": {
          "base_uri": "https://localhost:8080/"
        }
      },
      "cell_type": "code",
      "source": [
        "fit(net, md, n_epochs=3, crit=loss, opt=opt, metrics=metrics)"
      ],
      "execution_count": 35,
      "outputs": [
        {
          "output_type": "display_data",
          "data": {
            "application/vnd.jupyter.widget-view+json": {
              "model_id": "6ca355db3aca4465b0c6e6b8e8be3df7",
              "version_minor": 0,
              "version_major": 2
            },
            "text/plain": [
              "HBox(children=(IntProgress(value=0, description='Epoch', max=3, style=ProgressStyle(description_width='initial…"
            ]
          },
          "metadata": {
            "tags": []
          }
        },
        {
          "output_type": "stream",
          "text": [
            "epoch      trn_loss   val_loss   accuracy   \n",
            "    0      0.035166   0.075926   0.9767    \n",
            "    1      0.029543   0.075866   0.9757    \n",
            "    2      0.024577   0.070469   0.9779    \n",
            "\n"
          ],
          "name": "stdout"
        },
        {
          "output_type": "execute_result",
          "data": {
            "text/plain": [
              "[array([0.07047]), 0.9779]"
            ]
          },
          "metadata": {
            "tags": []
          },
          "execution_count": 35
        }
      ]
    },
    {
      "metadata": {
        "id": "AJvECnZHOV3d",
        "colab_type": "code",
        "outputId": "d3e6de38-5ee0-46f4-ea9a-00cf5717db9c",
        "colab": {
          "base_uri": "https://localhost:8080/"
        }
      },
      "cell_type": "code",
      "source": [
        "t = [o.numel() for o in net.parameters()]\n",
        "t, sum(t)"
      ],
      "execution_count": 36,
      "outputs": [
        {
          "output_type": "execute_result",
          "data": {
            "text/plain": [
              "([78400, 100, 10000, 100, 1000, 10], 89610)"
            ]
          },
          "metadata": {
            "tags": []
          },
          "execution_count": 36
        }
      ]
    },
    {
      "metadata": {
        "id": "LM0fDAvbOV3e",
        "colab_type": "text"
      },
      "cell_type": "markdown",
      "source": [
        "GPUs are great at handling lots of data at once (otherwise don't get performance benefit).  We break the data up into **batches**, and that specifies how many samples from our dataset we want to send to the GPU at a time.  The fastai library defaults to a batch size of 64.  On each iteration of the training loop, the error on 1 batch of data will be calculated, and the optimizer will update the parameters based on that.\n",
        "\n",
        "An **epoch** is completed once each data sample has been used once in the training loop.\n",
        "\n",
        "Now that we have the parameters for our model, we can make predictions on our validation set."
      ]
    },
    {
      "metadata": {
        "id": "KhbjqyFzOV3f",
        "colab_type": "code",
        "colab": {}
      },
      "cell_type": "code",
      "source": [
        "preds = predict(net, md.val_dl)"
      ],
      "execution_count": 0,
      "outputs": []
    },
    {
      "metadata": {
        "id": "QZdhBAk2OV3f",
        "colab_type": "code",
        "outputId": "08848c85-6455-42cb-84db-01317d30def2",
        "colab": {
          "base_uri": "https://localhost:8080/"
        }
      },
      "cell_type": "code",
      "source": [
        "preds.shape"
      ],
      "execution_count": 38,
      "outputs": [
        {
          "output_type": "execute_result",
          "data": {
            "text/plain": [
              "(10000, 10)"
            ]
          },
          "metadata": {
            "tags": []
          },
          "execution_count": 38
        }
      ]
    },
    {
      "metadata": {
        "id": "XYuCWwYtOV3h",
        "colab_type": "text"
      },
      "cell_type": "markdown",
      "source": [
        "**Question**: Why does our output have length 10 (for each image)?"
      ]
    },
    {
      "metadata": {
        "id": "bYeZwjNROV3h",
        "colab_type": "code",
        "outputId": "edd0f137-a48b-46ac-8f59-d10f3f05d4c8",
        "colab": {
          "base_uri": "https://localhost:8080/"
        }
      },
      "cell_type": "code",
      "source": [
        "preds.argmax(axis=1)[:5]"
      ],
      "execution_count": 39,
      "outputs": [
        {
          "output_type": "execute_result",
          "data": {
            "text/plain": [
              "array([3, 8, 6, 9, 6])"
            ]
          },
          "metadata": {
            "tags": []
          },
          "execution_count": 39
        }
      ]
    },
    {
      "metadata": {
        "id": "xsy-swH5OV3i",
        "colab_type": "code",
        "colab": {}
      },
      "cell_type": "code",
      "source": [
        "preds = preds.argmax(1)"
      ],
      "execution_count": 0,
      "outputs": []
    },
    {
      "metadata": {
        "id": "WAN_6V4zOV3j",
        "colab_type": "text"
      },
      "cell_type": "markdown",
      "source": [
        "Let's check how accurate this approach is on our validation set. You may want to compare this against other implementations of logistic regression, such as the one in sklearn. In our testing, this simple pytorch version is faster and more accurate for this problem!"
      ]
    },
    {
      "metadata": {
        "id": "KIkTqzIMOV3j",
        "colab_type": "code",
        "outputId": "2d4267e5-7468-4c05-ec9f-ffc4f16dedcb",
        "colab": {
          "base_uri": "https://localhost:8080/"
        }
      },
      "cell_type": "code",
      "source": [
        "np.mean(preds == y_valid)"
      ],
      "execution_count": 41,
      "outputs": [
        {
          "output_type": "execute_result",
          "data": {
            "text/plain": [
              "0.9779"
            ]
          },
          "metadata": {
            "tags": []
          },
          "execution_count": 41
        }
      ]
    },
    {
      "metadata": {
        "id": "TzNqRlRGOV3k",
        "colab_type": "text"
      },
      "cell_type": "markdown",
      "source": [
        "Let's see how some of our predictions look!"
      ]
    },
    {
      "metadata": {
        "id": "mRLokzWROV3k",
        "colab_type": "code",
        "outputId": "313c1d91-1ea6-49d8-9efe-8493fe92e6d8",
        "colab": {
          "base_uri": "https://localhost:8080/"
        }
      },
      "cell_type": "code",
      "source": [
        "plots(x_imgs[:8], titles=preds[:8])"
      ],
      "execution_count": 42,
      "outputs": [
        {
          "output_type": "display_data",
          "data": {
            "image/png": "[encoded data removed]",
            "text/plain": [
              "<Figure size 864x432 with 8 Axes>"
            ]
          },
          "metadata": {
            "tags": []
          }
        }
      ]
    },
    {
      "metadata": {
        "id": "eTFrqbD0OV3l",
        "colab_type": "text"
      },
      "cell_type": "markdown",
      "source": [
        "##9 Defining Logistic Regression Ourselves"
      ]
    },
    {
      "metadata": {
        "id": "v7DT4J5rOV3l",
        "colab_type": "text"
      },
      "cell_type": "markdown",
      "source": [
        "Above, we used pytorch's `nn.Linear` to create a linear layer.  This is defined by a matrix multiplication and then an addition (these are also called `affine transformations`).  Let's try defining this ourselves.\n",
        "\n",
        "Just as Numpy has `np.matmul` for matrix multiplication (in Python 3, this is equivalent to the `@` operator), PyTorch has `torch.matmul`.  \n",
        "\n",
        "Our PyTorch class needs two things: constructor (says what the parameters are) and a forward method (how to calculate a prediction using those parameters)  The method `forward` describes how the neural net converts inputs to outputs.\n",
        "\n",
        "In PyTorch, the optimizer knows to try to optimize any attribute of type **Parameter**."
      ]
    },
    {
      "metadata": {
        "id": "hMJ3iNCuslzy",
        "colab_type": "code",
        "colab": {}
      },
      "cell_type": "code",
      "source": [
        "def get_weights(*dims): return nn.Parameter(torch.randn(dims)/dims[0])\n",
        "def softmax(x): return torch.exp(x)/(torch.exp(x).sum(dim=1)[:,None])"
      ],
      "execution_count": 0,
      "outputs": []
    },
    {
      "metadata": {
        "id": "RhH27AACOV3l",
        "colab_type": "code",
        "colab": {}
      },
      "cell_type": "code",
      "source": [
        "class LogReg(nn.Module):\n",
        "    def __init__(self):\n",
        "        super().__init__()\n",
        "        self.l1_w = get_weights(28*28, 10)  # Layer 1 weights\n",
        "        self.l1_b = get_weights(10)         # Layer 1 bias\n",
        "\n",
        "    def forward(self, x):\n",
        "        x = x.view(x.size(0), -1)\n",
        "#        x = torch.matmul(x, self.l1_w) + self.l1_b  # Linear Layer\n",
        "        x = (x @ self.l1_w) + self.l1_b  # Linear Layer\n",
        "#        x = torch.log(torch.exp(x)/(torch.exp(x).sum(dim=0)))  # Non-linear (LogSoftmax) Layer\n",
        "        x = torch.log(softmax(x)) # Non-linear (LogSoftmax) Layer\n",
        "        return x"
      ],
      "execution_count": 0,
      "outputs": []
    },
    {
      "metadata": {
        "id": "hloLR8ouOV3m",
        "colab_type": "text"
      },
      "cell_type": "markdown",
      "source": [
        "We create our neural net and the optimizer.  (We will use the same loss and metrics from above)."
      ]
    },
    {
      "metadata": {
        "id": "vajB6erOOV3m",
        "colab_type": "code",
        "colab": {}
      },
      "cell_type": "code",
      "source": [
        "net2 = LogReg().cuda()\n",
        "opt=optim.Adam(net2.parameters())"
      ],
      "execution_count": 0,
      "outputs": []
    },
    {
      "metadata": {
        "id": "D3UDZg1UOV3n",
        "colab_type": "code",
        "outputId": "725b1cf9-eb21-43a6-b21b-339cedba3c72",
        "colab": {
          "base_uri": "https://localhost:8080/"
        }
      },
      "cell_type": "code",
      "source": [
        "fit(net2, md, n_epochs=1, crit=loss, opt=opt, metrics=metrics)"
      ],
      "execution_count": 46,
      "outputs": [
        {
          "output_type": "display_data",
          "data": {
            "application/vnd.jupyter.widget-view+json": {
              "model_id": "1b2bd5e05950406f867cc2e5b8e89bd0",
              "version_minor": 0,
              "version_major": 2
            },
            "text/plain": [
              "HBox(children=(IntProgress(value=0, description='Epoch', max=1, style=ProgressStyle(description_width='initial…"
            ]
          },
          "metadata": {
            "tags": []
          }
        },
        {
          "output_type": "stream",
          "text": [
            "epoch      trn_loss   val_loss   accuracy   \n",
            "    0      0.328576   0.281445   0.9234    \n",
            "\n"
          ],
          "name": "stdout"
        },
        {
          "output_type": "execute_result",
          "data": {
            "text/plain": [
              "[array([0.28144]), 0.9234]"
            ]
          },
          "metadata": {
            "tags": []
          },
          "execution_count": 46
        }
      ]
    },
    {
      "metadata": {
        "id": "pxa8azAzOV3o",
        "colab_type": "code",
        "colab": {}
      },
      "cell_type": "code",
      "source": [
        "dl = iter(md.trn_dl)"
      ],
      "execution_count": 0,
      "outputs": []
    },
    {
      "metadata": {
        "id": "-o19HeW9OV3o",
        "colab_type": "code",
        "colab": {}
      },
      "cell_type": "code",
      "source": [
        "xmb,ymb = next(dl)"
      ],
      "execution_count": 0,
      "outputs": []
    },
    {
      "metadata": {
        "id": "SkuU2mJkhQ0t",
        "colab_type": "code",
        "outputId": "761e1135-b136-414b-e4c4-3d3be972723a",
        "colab": {
          "base_uri": "https://localhost:8080/"
        }
      },
      "cell_type": "code",
      "source": [
        "#Variable(xmb)\n",
        "xmb"
      ],
      "execution_count": 49,
      "outputs": [
        {
          "output_type": "execute_result",
          "data": {
            "text/plain": [
              "\n",
              "-0.4245 -0.4245 -0.4245  ...  -0.4245 -0.4245 -0.4245\n",
              "-0.4245 -0.4245 -0.4245  ...  -0.4245 -0.4245 -0.4245\n",
              "-0.4245 -0.4245 -0.4245  ...  -0.4245 -0.4245 -0.4245\n",
              "          ...             ⋱             ...          \n",
              "-0.4245 -0.4245 -0.4245  ...  -0.4245 -0.4245 -0.4245\n",
              "-0.4245 -0.4245 -0.4245  ...  -0.4245 -0.4245 -0.4245\n",
              "-0.4245 -0.4245 -0.4245  ...  -0.4245 -0.4245 -0.4245\n",
              "[torch.cuda.FloatTensor of size 64x784 (GPU 0)]"
            ]
          },
          "metadata": {
            "tags": []
          },
          "execution_count": 49
        }
      ]
    },
    {
      "metadata": {
        "id": "VMQWO5ZoOV3p",
        "colab_type": "code",
        "outputId": "5924a90a-cef6-4f1a-b3e8-8df1ee58e7f5",
        "colab": {
          "base_uri": "https://localhost:8080/"
        }
      },
      "cell_type": "code",
      "source": [
        "vxmb = Variable(xmb.cuda())\n",
        "vxmb"
      ],
      "execution_count": 50,
      "outputs": [
        {
          "output_type": "execute_result",
          "data": {
            "text/plain": [
              "Variable containing:\n",
              "-0.4245 -0.4245 -0.4245  ...  -0.4245 -0.4245 -0.4245\n",
              "-0.4245 -0.4245 -0.4245  ...  -0.4245 -0.4245 -0.4245\n",
              "-0.4245 -0.4245 -0.4245  ...  -0.4245 -0.4245 -0.4245\n",
              "          ...             ⋱             ...          \n",
              "-0.4245 -0.4245 -0.4245  ...  -0.4245 -0.4245 -0.4245\n",
              "-0.4245 -0.4245 -0.4245  ...  -0.4245 -0.4245 -0.4245\n",
              "-0.4245 -0.4245 -0.4245  ...  -0.4245 -0.4245 -0.4245\n",
              "[torch.cuda.FloatTensor of size 64x784 (GPU 0)]"
            ]
          },
          "metadata": {
            "tags": []
          },
          "execution_count": 50
        }
      ]
    },
    {
      "metadata": {
        "id": "y2_t6OWVOV3q",
        "colab_type": "code",
        "outputId": "9b50f10c-1f39-4234-b2e5-dbcc200e5ee0",
        "colab": {
          "base_uri": "https://localhost:8080/"
        }
      },
      "cell_type": "code",
      "source": [
        "#preds = net2(Variable(xmb.cuda())).exp()\n",
        "preds = net2(vxmb).exp(); preds[:3]"
      ],
      "execution_count": 51,
      "outputs": [
        {
          "output_type": "execute_result",
          "data": {
            "text/plain": [
              "Variable containing:\n",
              "\n",
              "Columns 0 to 5 \n",
              " 4.9643e-05  2.3245e-04  9.8360e-01  1.3423e-03  9.5375e-06  7.1596e-04\n",
              " 2.9588e-06  7.7287e-05  2.8278e-04  1.6135e-04  4.8696e-06  9.0719e-04\n",
              " 3.4136e-05  1.8475e-04  7.4374e-03  2.2432e-03  4.0028e-03  6.9473e-03\n",
              "\n",
              "Columns 6 to 9 \n",
              " 3.5236e-04  9.7459e-05  1.3334e-02  2.6279e-04\n",
              " 1.8223e-05  1.1149e-06  9.9828e-01  2.6400e-04\n",
              " 1.4209e-04  1.0440e-04  9.7773e-01  1.1755e-03\n",
              "[torch.cuda.FloatTensor of size 3x10 (GPU 0)]"
            ]
          },
          "metadata": {
            "tags": []
          },
          "execution_count": 51
        }
      ]
    },
    {
      "metadata": {
        "id": "OhmgqOF0OV3r",
        "colab_type": "code",
        "outputId": "5176eefa-01a4-4dd5-c505-bb53151da1f8",
        "colab": {
          "base_uri": "https://localhost:8080/"
        }
      },
      "cell_type": "code",
      "source": [
        "preds.max(1)[1]\n",
        "#preds = preds.data.max(1)[1]; preds"
      ],
      "execution_count": 52,
      "outputs": [
        {
          "output_type": "execute_result",
          "data": {
            "text/plain": [
              "Variable containing:\n",
              " 2\n",
              " 8\n",
              " 8\n",
              " 8\n",
              " 6\n",
              " 6\n",
              " 9\n",
              " 5\n",
              " 1\n",
              " 0\n",
              " 1\n",
              " 1\n",
              " 0\n",
              " 9\n",
              " 3\n",
              " 9\n",
              " 7\n",
              " 3\n",
              " 7\n",
              " 4\n",
              " 9\n",
              " 8\n",
              " 4\n",
              " 0\n",
              " 9\n",
              " 2\n",
              " 5\n",
              " 6\n",
              " 1\n",
              " 8\n",
              " 3\n",
              " 9\n",
              " 2\n",
              " 9\n",
              " 5\n",
              " 5\n",
              " 0\n",
              " 1\n",
              " 8\n",
              " 5\n",
              " 4\n",
              " 0\n",
              " 2\n",
              " 5\n",
              " 0\n",
              " 8\n",
              " 9\n",
              " 3\n",
              " 7\n",
              " 5\n",
              " 7\n",
              " 1\n",
              " 3\n",
              " 2\n",
              " 3\n",
              " 2\n",
              " 3\n",
              " 0\n",
              " 3\n",
              " 2\n",
              " 0\n",
              " 4\n",
              " 9\n",
              " 3\n",
              "[torch.cuda.LongTensor of size 64 (GPU 0)]"
            ]
          },
          "metadata": {
            "tags": []
          },
          "execution_count": 52
        }
      ]
    },
    {
      "metadata": {
        "id": "Owm49Eg5OV3s",
        "colab_type": "text"
      },
      "cell_type": "markdown",
      "source": [
        "Let's look at our predictions on the first eight images:"
      ]
    },
    {
      "metadata": {
        "id": "QEefYBMSOV3s",
        "colab_type": "code",
        "outputId": "8fd81020-f742-45f5-c628-ec76e3dbd5d0",
        "colab": {
          "base_uri": "https://localhost:8080/"
        }
      },
      "cell_type": "code",
      "source": [
        "preds = predict(net2, md.val_dl).argmax(1)\n",
        "plots(x_imgs[:8], titles=preds[:8])"
      ],
      "execution_count": 53,
      "outputs": [
        {
          "output_type": "display_data",
          "data": {
            "image/png": "[encoded data removed]",
            "text/plain": [
              "<Figure size 864x432 with 8 Axes>"
            ]
          },
          "metadata": {
            "tags": []
          }
        }
      ]
    },
    {
      "metadata": {
        "id": "P3g1YO-eOV3t",
        "colab_type": "code",
        "outputId": "b88b10b3-05f2-4024-d72a-0fa8fbef557e",
        "colab": {
          "base_uri": "https://localhost:8080/"
        }
      },
      "cell_type": "code",
      "source": [
        "np.mean(preds == y_valid)"
      ],
      "execution_count": 54,
      "outputs": [
        {
          "output_type": "execute_result",
          "data": {
            "text/plain": [
              "0.9234"
            ]
          },
          "metadata": {
            "tags": []
          },
          "execution_count": 54
        }
      ]
    },
    {
      "metadata": {
        "id": "aspjBkVyOV3u",
        "colab_type": "text"
      },
      "cell_type": "markdown",
      "source": [
        "##10 Aside about Broadcasting and Matrix Multiplication"
      ]
    },
    {
      "metadata": {
        "id": "zoqTzDyPOV3v",
        "colab_type": "text"
      },
      "cell_type": "markdown",
      "source": [
        "Now let's dig in to what we were doing with `torch.matmul`: matrix multiplication.  First, let's start with a simpler building block: **broadcasting**."
      ]
    },
    {
      "metadata": {
        "id": "HrT6ypYDOV3v",
        "colab_type": "text"
      },
      "cell_type": "markdown",
      "source": [
        "###10.1 Element-wise operations "
      ]
    },
    {
      "metadata": {
        "id": "Es5_focaOV3v",
        "colab_type": "text"
      },
      "cell_type": "markdown",
      "source": [
        "Broadcasting and element-wise operations are supported in the same way by both numpy and pytorch.\n",
        "\n",
        "Operators (+,-,\\*,/,>,<,==) are usually element-wise.\n",
        "\n",
        "Examples of element-wise operations:"
      ]
    },
    {
      "metadata": {
        "id": "1JLbI5FIOV3v",
        "colab_type": "code",
        "outputId": "5dffe6ce-1326-46e0-9148-e5a185c5ef52",
        "colab": {
          "base_uri": "https://localhost:8080/",
          "height": 34
        }
      },
      "cell_type": "code",
      "source": [
        "a = np.array([10, 6, -4])\n",
        "b = np.array([2, 8, 7])\n",
        "a,b"
      ],
      "execution_count": 59,
      "outputs": [
        {
          "output_type": "execute_result",
          "data": {
            "text/plain": [
              "(array([10,  6, -4]), array([2, 8, 7]))"
            ]
          },
          "metadata": {
            "tags": []
          },
          "execution_count": 59
        }
      ]
    },
    {
      "metadata": {
        "id": "YXlvGU11OV3w",
        "colab_type": "code",
        "outputId": "fc50d019-981f-43be-f9e3-ed7811b1210f",
        "colab": {
          "base_uri": "https://localhost:8080/",
          "height": 34
        }
      },
      "cell_type": "code",
      "source": [
        "a + b"
      ],
      "execution_count": 61,
      "outputs": [
        {
          "output_type": "execute_result",
          "data": {
            "text/plain": [
              "array([12, 14,  3])"
            ]
          },
          "metadata": {
            "tags": []
          },
          "execution_count": 61
        }
      ]
    },
    {
      "metadata": {
        "id": "fLv1gGsWOV3x",
        "colab_type": "code",
        "outputId": "c2f0376c-066e-497c-8fd4-67239ab0f9dd",
        "colab": {
          "base_uri": "https://localhost:8080/",
          "height": 34
        }
      },
      "cell_type": "code",
      "source": [
        "(a < b).mean()"
      ],
      "execution_count": 60,
      "outputs": [
        {
          "output_type": "execute_result",
          "data": {
            "text/plain": [
              "0.6666666666666666"
            ]
          },
          "metadata": {
            "tags": []
          },
          "execution_count": 60
        }
      ]
    },
    {
      "metadata": {
        "id": "60sK6Q97kqN9",
        "colab_type": "code",
        "outputId": "55e989da-c3a9-4fa7-b05a-58a6f976eef0",
        "colab": {
          "base_uri": "https://localhost:8080/",
          "height": 173
        }
      },
      "cell_type": "code",
      "source": [
        "a = T([10, 6, -4])  # .cuda() not required already using GPU\n",
        "b = T([2, 8, 7])    # .cuda() not required already using GPU\n",
        "a,b"
      ],
      "execution_count": 56,
      "outputs": [
        {
          "output_type": "execute_result",
          "data": {
            "text/plain": [
              "(\n",
              "  10\n",
              "   6\n",
              "  -4\n",
              " [torch.cuda.LongTensor of size 3 (GPU 0)], \n",
              "  2\n",
              "  8\n",
              "  7\n",
              " [torch.cuda.LongTensor of size 3 (GPU 0)])"
            ]
          },
          "metadata": {
            "tags": []
          },
          "execution_count": 56
        }
      ]
    },
    {
      "metadata": {
        "id": "7207aWogj0pS",
        "colab_type": "code",
        "colab": {
          "base_uri": "https://localhost:8080/",
          "height": 34
        },
        "outputId": "e6f67ecd-c4e1-4cb4-b301-dd50ffb89245"
      },
      "cell_type": "code",
      "source": [
        "a + b"
      ],
      "execution_count": 62,
      "outputs": [
        {
          "output_type": "execute_result",
          "data": {
            "text/plain": [
              "array([12, 14,  3])"
            ]
          },
          "metadata": {
            "tags": []
          },
          "execution_count": 62
        }
      ]
    },
    {
      "metadata": {
        "id": "ffHop3f_OV3y",
        "colab_type": "text"
      },
      "cell_type": "markdown",
      "source": [
        "###10.2 Broadcasting"
      ]
    },
    {
      "metadata": {
        "id": "b3e2Pe5EOV3y",
        "colab_type": "text"
      },
      "cell_type": "markdown",
      "source": [
        "The term **broadcasting** describes how arrays with different shapes are treated during arithmetic operations.  The term broadcasting was first used by Numpy, although is now used in other libraries such as [Tensorflow](https://www.tensorflow.org/performance/xla/broadcasting) and Matlab; the rules can vary by library.\n",
        "\n",
        "From the [Numpy Documentation](https://docs.scipy.org/doc/numpy-1.10.0/user/basics.broadcasting.html):\n",
        "\n",
        "    The term broadcasting describes how numpy treats arrays with \n",
        "    different shapes during arithmetic operations. Subject to certain \n",
        "    constraints, the smaller array is “broadcast” across the larger \n",
        "    array so that they have compatible shapes. Broadcasting provides a \n",
        "    means of vectorizing array operations so that looping occurs in C\n",
        "    instead of Python. It does this without making needless copies of \n",
        "    data and usually leads to efficient algorithm implementations.\n",
        "    \n",
        "In addition to the efficiency of broadcasting, it allows developers to write less code, which typically leads to fewer errors.\n",
        "\n",
        "*This section was adapted from [Chapter 4](http://nbviewer.jupyter.org/github/fastai/numerical-linear-algebra/blob/master/nbs/4.%20Compressed%20Sensing%20of%20CT%20Scans%20with%20Robust%20Regression.ipynb#4.-Compressed-Sensing-of-CT-Scans-with-Robust-Regression) of the fast.ai [Computational Linear Algebra](https://github.com/fastai/numerical-linear-algebra) course.*"
      ]
    },
    {
      "metadata": {
        "id": "EFJOXce7OV3z",
        "colab_type": "text"
      },
      "cell_type": "markdown",
      "source": [
        "####10.2.1 Broadcasting with a scalar"
      ]
    },
    {
      "metadata": {
        "id": "1Nvy7uJEOV3z",
        "colab_type": "code",
        "colab": {}
      },
      "cell_type": "code",
      "source": [
        "a"
      ],
      "execution_count": 0,
      "outputs": []
    },
    {
      "metadata": {
        "id": "_SRr5PuoOV30",
        "colab_type": "code",
        "colab": {}
      },
      "cell_type": "code",
      "source": [
        "a > 0"
      ],
      "execution_count": 0,
      "outputs": []
    },
    {
      "metadata": {
        "id": "RYsIsOdhOV31",
        "colab_type": "text"
      },
      "cell_type": "markdown",
      "source": [
        "How are we able to do a > 0?  0 is being **broadcast** to have the same dimensions as a.\n",
        "\n",
        "Remember above when we normalized our dataset by subtracting the mean (a scalar) from the entire data set (a matrix) and dividing by the standard deviation (another scalar)?  We were using broadcasting!\n",
        "\n",
        "Other examples of broadcasting with a scalar:"
      ]
    },
    {
      "metadata": {
        "id": "XjQcc1LqOV31",
        "colab_type": "code",
        "colab": {}
      },
      "cell_type": "code",
      "source": [
        "a + 1"
      ],
      "execution_count": 0,
      "outputs": []
    },
    {
      "metadata": {
        "id": "yvMJcbCuOV32",
        "colab_type": "code",
        "colab": {}
      },
      "cell_type": "code",
      "source": [
        "m = np.array([[1, 2, 3], [4,5,6], [7,8,9]]); m"
      ],
      "execution_count": 0,
      "outputs": []
    },
    {
      "metadata": {
        "id": "hh9HugVQOV33",
        "colab_type": "code",
        "colab": {}
      },
      "cell_type": "code",
      "source": [
        "2*m"
      ],
      "execution_count": 0,
      "outputs": []
    },
    {
      "metadata": {
        "id": "xuZTUG_POV34",
        "colab_type": "text"
      },
      "cell_type": "markdown",
      "source": [
        "####10.2.2 Broadcasting a vector to a matrix"
      ]
    },
    {
      "metadata": {
        "id": "G9U3Wi_yOV34",
        "colab_type": "text"
      },
      "cell_type": "markdown",
      "source": [
        "We can also broadcast a vector to a matrix:"
      ]
    },
    {
      "metadata": {
        "id": "_pba9ox7OV34",
        "colab_type": "code",
        "colab": {}
      },
      "cell_type": "code",
      "source": [
        "c = np.array([10,20,30]); c"
      ],
      "execution_count": 0,
      "outputs": []
    },
    {
      "metadata": {
        "id": "FvhEJklUOV35",
        "colab_type": "code",
        "colab": {}
      },
      "cell_type": "code",
      "source": [
        "m + c"
      ],
      "execution_count": 0,
      "outputs": []
    },
    {
      "metadata": {
        "id": "XvsHpfSOOV37",
        "colab_type": "code",
        "colab": {}
      },
      "cell_type": "code",
      "source": [
        "c + m"
      ],
      "execution_count": 0,
      "outputs": []
    },
    {
      "metadata": {
        "id": "X7sw4SAyOV38",
        "colab_type": "text"
      },
      "cell_type": "markdown",
      "source": [
        "Although numpy does this automatically, you can also use the `broadcast_to` method:"
      ]
    },
    {
      "metadata": {
        "id": "O9y0ejNNOV39",
        "colab_type": "code",
        "colab": {}
      },
      "cell_type": "code",
      "source": [
        "c.shape"
      ],
      "execution_count": 0,
      "outputs": []
    },
    {
      "metadata": {
        "id": "m7-00rpOOV3-",
        "colab_type": "code",
        "colab": {}
      },
      "cell_type": "code",
      "source": [
        "np.broadcast_to(c[:,None], m.shape)"
      ],
      "execution_count": 0,
      "outputs": []
    },
    {
      "metadata": {
        "id": "Yw5Op5MsOV3_",
        "colab_type": "code",
        "colab": {}
      },
      "cell_type": "code",
      "source": [
        "np.broadcast_to(np.expand_dims(c,0), (3,3))"
      ],
      "execution_count": 0,
      "outputs": []
    },
    {
      "metadata": {
        "id": "4hex6TB8OV3_",
        "colab_type": "code",
        "colab": {}
      },
      "cell_type": "code",
      "source": [
        "c.shape"
      ],
      "execution_count": 0,
      "outputs": []
    },
    {
      "metadata": {
        "id": "wWfDAHe0OV4A",
        "colab_type": "code",
        "colab": {}
      },
      "cell_type": "code",
      "source": [
        "np.expand_dims(c,0).shape"
      ],
      "execution_count": 0,
      "outputs": []
    },
    {
      "metadata": {
        "id": "qTUrqVKdOV4B",
        "colab_type": "text"
      },
      "cell_type": "markdown",
      "source": [
        "The numpy `expand_dims` method lets us convert the 1-dimensional array `c` into a 2-dimensional array (although one of those dimensions has value 1)."
      ]
    },
    {
      "metadata": {
        "id": "Y2eMvpeROV4B",
        "colab_type": "code",
        "colab": {}
      },
      "cell_type": "code",
      "source": [
        "np.expand_dims(c,0).shape"
      ],
      "execution_count": 0,
      "outputs": []
    },
    {
      "metadata": {
        "id": "4gDfoI8ROV4C",
        "colab_type": "code",
        "colab": {}
      },
      "cell_type": "code",
      "source": [
        "m + np.expand_dims(c,0)"
      ],
      "execution_count": 0,
      "outputs": []
    },
    {
      "metadata": {
        "id": "lnIgrRzOOV4D",
        "colab_type": "code",
        "colab": {}
      },
      "cell_type": "code",
      "source": [
        "np.expand_dims(c,1)"
      ],
      "execution_count": 0,
      "outputs": []
    },
    {
      "metadata": {
        "id": "8Divgel4OV4E",
        "colab_type": "code",
        "colab": {}
      },
      "cell_type": "code",
      "source": [
        "c[:, None].shape"
      ],
      "execution_count": 0,
      "outputs": []
    },
    {
      "metadata": {
        "id": "Y7yFNg7COV4F",
        "colab_type": "code",
        "colab": {}
      },
      "cell_type": "code",
      "source": [
        "m + np.expand_dims(c,1)"
      ],
      "execution_count": 0,
      "outputs": []
    },
    {
      "metadata": {
        "id": "Z1Navn-DOV4G",
        "colab_type": "code",
        "colab": {}
      },
      "cell_type": "code",
      "source": [
        "np.broadcast_to(np.expand_dims(c,1), (3,3))"
      ],
      "execution_count": 0,
      "outputs": []
    },
    {
      "metadata": {
        "id": "AR0RbILxOV4G",
        "colab_type": "text"
      },
      "cell_type": "markdown",
      "source": [
        "####10.2.3 Broadcasting Rules"
      ]
    },
    {
      "metadata": {
        "id": "MYYbKD1gOV4H",
        "colab_type": "code",
        "colab": {}
      },
      "cell_type": "code",
      "source": [
        "c[None]"
      ],
      "execution_count": 0,
      "outputs": []
    },
    {
      "metadata": {
        "id": "Ad6tDfwpOV4I",
        "colab_type": "code",
        "colab": {}
      },
      "cell_type": "code",
      "source": [
        "c[:,None]"
      ],
      "execution_count": 0,
      "outputs": []
    },
    {
      "metadata": {
        "id": "RKLcpefbOV4I",
        "colab_type": "code",
        "colab": {}
      },
      "cell_type": "code",
      "source": [
        "c[None] * c[:,None]"
      ],
      "execution_count": 0,
      "outputs": []
    },
    {
      "metadata": {
        "id": "YFU_hlIHl_8I",
        "colab_type": "code",
        "colab": {}
      },
      "cell_type": "code",
      "source": [
        "c[None] > c[:,None]"
      ],
      "execution_count": 0,
      "outputs": []
    },
    {
      "metadata": {
        "id": "AtQCqsLDOV4J",
        "colab_type": "code",
        "colab": {}
      },
      "cell_type": "code",
      "source": [
        "xg,yg = np.ogrid[0:5, 0:5]; xg,yg"
      ],
      "execution_count": 0,
      "outputs": []
    },
    {
      "metadata": {
        "id": "6q1PhG47OV4K",
        "colab_type": "code",
        "colab": {}
      },
      "cell_type": "code",
      "source": [
        "xg+yg"
      ],
      "execution_count": 0,
      "outputs": []
    },
    {
      "metadata": {
        "id": "fXpvJ5kTOV4L",
        "colab_type": "text"
      },
      "cell_type": "markdown",
      "source": [
        "When operating on two arrays, Numpy/PyTorch compares their shapes element-wise. It starts with the **trailing dimensions**, and works its way forward. Two dimensions are **compatible** when\n",
        "\n",
        "- they are equal, or\n",
        "- one of them is 1\n",
        "\n",
        "Arrays do not need to have the same number of dimensions. For example, if you have a `256*256*3` array of RGB values, and you want to scale each color in the image by a different value, you can multiply the image by a one-dimensional array with 3 values. Lining up the sizes of the trailing axes of these arrays according to the broadcast rules, shows that they are compatible:\n",
        "\n",
        "    Image  (3d array): 256 x 256 x 3\n",
        "    Scale  (1d array):             3\n",
        "    Result (3d array): 256 x 256 x 3\n",
        "\n",
        "The [numpy documentation](https://docs.scipy.org/doc/numpy-1.13.0/user/basics.broadcasting.html#general-broadcasting-rules) includes several examples of what dimensions can and can not be broadcast together."
      ]
    },
    {
      "metadata": {
        "id": "Ym1yKjfsOV4L",
        "colab_type": "text"
      },
      "cell_type": "markdown",
      "source": [
        "###10.3 Matrix Multiplication"
      ]
    },
    {
      "metadata": {
        "id": "CYvs8zQDOV4L",
        "colab_type": "text"
      },
      "cell_type": "markdown",
      "source": [
        "We are going to use broadcasting to define matrix multiplication."
      ]
    },
    {
      "metadata": {
        "id": "iBxPoUZnOV4L",
        "colab_type": "code",
        "colab": {}
      },
      "cell_type": "code",
      "source": [
        "m, c"
      ],
      "execution_count": 0,
      "outputs": []
    },
    {
      "metadata": {
        "id": "hq9IANpmOV4M",
        "colab_type": "code",
        "colab": {}
      },
      "cell_type": "code",
      "source": [
        "m @ c  # np.matmul(m, c)"
      ],
      "execution_count": 0,
      "outputs": []
    },
    {
      "metadata": {
        "id": "5diwRVHiOV4N",
        "colab_type": "text"
      },
      "cell_type": "markdown",
      "source": [
        "We get the same answer using `torch.matmul`:"
      ]
    },
    {
      "metadata": {
        "id": "NpJfCV2yOV4N",
        "colab_type": "code",
        "colab": {}
      },
      "cell_type": "code",
      "source": [
        "T(m).float() @ T(c).float()"
      ],
      "execution_count": 0,
      "outputs": []
    },
    {
      "metadata": {
        "id": "kd_rQ9rxOV4O",
        "colab_type": "text"
      },
      "cell_type": "markdown",
      "source": [
        "The following is **NOT** matrix multiplication.  What is it?"
      ]
    },
    {
      "metadata": {
        "id": "YPtdQZdiOV4O",
        "colab_type": "code",
        "colab": {}
      },
      "cell_type": "code",
      "source": [
        "m,c"
      ],
      "execution_count": 0,
      "outputs": []
    },
    {
      "metadata": {
        "id": "rsVPCOgKOV4O",
        "colab_type": "code",
        "colab": {}
      },
      "cell_type": "code",
      "source": [
        "m * c"
      ],
      "execution_count": 0,
      "outputs": []
    },
    {
      "metadata": {
        "id": "NhOGUGzJOV4P",
        "colab_type": "code",
        "colab": {}
      },
      "cell_type": "code",
      "source": [
        "(m * c).sum(axis=1)"
      ],
      "execution_count": 0,
      "outputs": []
    },
    {
      "metadata": {
        "id": "RsKvhULmOV4Q",
        "colab_type": "code",
        "colab": {}
      },
      "cell_type": "code",
      "source": [
        "c"
      ],
      "execution_count": 0,
      "outputs": []
    },
    {
      "metadata": {
        "id": "6Lc8-xMbOV4R",
        "colab_type": "code",
        "colab": {}
      },
      "cell_type": "code",
      "source": [
        "np.broadcast_to(c, (3,3))"
      ],
      "execution_count": 0,
      "outputs": []
    },
    {
      "metadata": {
        "id": "EF6CUvw0OV4R",
        "colab_type": "text"
      },
      "cell_type": "markdown",
      "source": [
        "From a machine learning perspective, matrix multiplication is a way of creating features by saying how much we want to weight each input column.  **Different features are different weighted averages of the input columns**. \n",
        "\n",
        "The website [matrixmultiplication.xyz](http://matrixmultiplication.xyz/) provides a nice visualization of matrix multiplcation"
      ]
    },
    {
      "metadata": {
        "id": "zVAeXZXuOV4S",
        "colab_type": "code",
        "colab": {}
      },
      "cell_type": "code",
      "source": [
        "n = np.array([[10,40],[20,0],[30,-5]]); n"
      ],
      "execution_count": 0,
      "outputs": []
    },
    {
      "metadata": {
        "id": "cwRiJapAOV4S",
        "colab_type": "code",
        "colab": {}
      },
      "cell_type": "code",
      "source": [
        "m"
      ],
      "execution_count": 0,
      "outputs": []
    },
    {
      "metadata": {
        "id": "du0pvKqpOV4T",
        "colab_type": "code",
        "colab": {}
      },
      "cell_type": "code",
      "source": [
        "m @ n"
      ],
      "execution_count": 0,
      "outputs": []
    },
    {
      "metadata": {
        "id": "ApRmuI93OV4U",
        "colab_type": "code",
        "colab": {}
      },
      "cell_type": "code",
      "source": [
        "(m * n[:,0]).sum(axis=1)"
      ],
      "execution_count": 0,
      "outputs": []
    },
    {
      "metadata": {
        "id": "IsZHHpqkOV4V",
        "colab_type": "code",
        "colab": {}
      },
      "cell_type": "code",
      "source": [
        "(m * n[:,1]).sum(axis=1)"
      ],
      "execution_count": 0,
      "outputs": []
    },
    {
      "metadata": {
        "id": "Kwjpul9jOV4W",
        "colab_type": "text"
      },
      "cell_type": "markdown",
      "source": [
        "##11 Writing Our Own Training Loop"
      ]
    },
    {
      "metadata": {
        "id": "qej68rcLOV4W",
        "colab_type": "text"
      },
      "cell_type": "markdown",
      "source": [
        "As a reminder, this is what we did above to write our own logistic regression class (as a pytorch neural net):"
      ]
    },
    {
      "metadata": {
        "id": "-wQ-9rVTOV4W",
        "colab_type": "code",
        "colab": {}
      },
      "cell_type": "code",
      "source": [
        "# Our code from above\n",
        "class LogReg(nn.Module):\n",
        "    def __init__(self):\n",
        "        super().__init__()\n",
        "        self.l1_w = get_weights(28*28, 10)  # Layer 1 weights\n",
        "        self.l1_b = get_weights(10)         # Layer 1 bias\n",
        "\n",
        "    def forward(self, x):\n",
        "        x = x.view(x.size(0), -1)\n",
        "        x = x @ self.l1_w + self.l1_b \n",
        "        return torch.log(softmax(x))\n",
        "\n",
        "net2 = LogReg().cuda()\n",
        "opt=optim.Adam(net2.parameters())\n",
        "\n",
        "fit(net2, md, n_epochs=1, crit=loss, opt=opt, metrics=metrics)"
      ],
      "execution_count": 0,
      "outputs": []
    },
    {
      "metadata": {
        "id": "8ri2WDEVOV4X",
        "colab_type": "text"
      },
      "cell_type": "markdown",
      "source": [
        "Above, we are using the fastai method `fit` to train our model.  Now we will try writing the training loop ourselves.\n",
        "\n",
        "**Review question:** What does it mean to train a model?"
      ]
    },
    {
      "metadata": {
        "id": "a2jt7vI6OV4X",
        "colab_type": "text"
      },
      "cell_type": "markdown",
      "source": [
        "We will use the LogReg class we created, as well as the same loss function, learning rate, and optimizer as before:"
      ]
    },
    {
      "metadata": {
        "id": "Ko-jkJYzOV4X",
        "colab_type": "code",
        "colab": {}
      },
      "cell_type": "code",
      "source": [
        "net2 = LogReg().cuda()\n",
        "loss=nn.NLLLoss()\n",
        "learning_rate = 1e-3\n",
        "optimizer=optim.Adam(net2.parameters(), lr=learning_rate)"
      ],
      "execution_count": 0,
      "outputs": []
    },
    {
      "metadata": {
        "id": "warFHuRcOV4Y",
        "colab_type": "text"
      },
      "cell_type": "markdown",
      "source": [
        "md is the ImageClassifierData object we created above.  We want an iterable version of our training data (**question**: what does it mean for something to be iterable?):"
      ]
    },
    {
      "metadata": {
        "id": "Xy8VebgeOV4Y",
        "colab_type": "code",
        "colab": {}
      },
      "cell_type": "code",
      "source": [
        "dl = iter(md.trn_dl) # Data loader"
      ],
      "execution_count": 0,
      "outputs": []
    },
    {
      "metadata": {
        "id": "ZsiY-eAfOV4Z",
        "colab_type": "text"
      },
      "cell_type": "markdown",
      "source": [
        "First, we will do a **forward pass**, which means computing the predicted y by passing x to the model."
      ]
    },
    {
      "metadata": {
        "id": "JlUr5BXoOV4Z",
        "colab_type": "code",
        "colab": {}
      },
      "cell_type": "code",
      "source": [
        "xt, yt = next(dl)\n",
        "y_pred = net2(Variable(xt).cuda())"
      ],
      "execution_count": 0,
      "outputs": []
    },
    {
      "metadata": {
        "id": "PghkEYStOV4a",
        "colab_type": "text"
      },
      "cell_type": "markdown",
      "source": [
        "We can check the loss:"
      ]
    },
    {
      "metadata": {
        "id": "B6ob0amIOV4a",
        "colab_type": "code",
        "colab": {}
      },
      "cell_type": "code",
      "source": [
        "l = loss(y_pred, Variable(yt).cuda())\n",
        "print(l)"
      ],
      "execution_count": 0,
      "outputs": []
    },
    {
      "metadata": {
        "id": "m2c3qKuQOV4b",
        "colab_type": "text"
      },
      "cell_type": "markdown",
      "source": [
        "We may also be interested in the accuracy.  We don't expect our first predictions to be very good, because the weights of our network were initialized to random values.  Our goal is to see the loss decrease (and the accuracy increase) as we train the network:"
      ]
    },
    {
      "metadata": {
        "id": "D9fo4tTzOV4b",
        "colab_type": "code",
        "colab": {}
      },
      "cell_type": "code",
      "source": [
        "np.mean(to_np(y_pred).argmax(axis=1) == to_np(yt))"
      ],
      "execution_count": 0,
      "outputs": []
    },
    {
      "metadata": {
        "id": "zpZJWAdGOV4c",
        "colab_type": "text"
      },
      "cell_type": "markdown",
      "source": [
        "Now we will use the optimizer to calculate which direction to step in.  That is, how should we update our weights to try to decrease the loss?\n",
        "\n",
        "Pytorch has an automatic differentiation package ([autograd](http://pytorch.org/docs/master/autograd.html)) that takes derivatives for us, so we don't have to calculate the derivative ourselves!  We just call `.backward()` on our loss to calculate the direction of steepest descent (the direction to lower the loss the most)."
      ]
    },
    {
      "metadata": {
        "id": "yNEVM1msOV4c",
        "colab_type": "code",
        "colab": {}
      },
      "cell_type": "code",
      "source": [
        "# Before the backward pass, use the optimizer object to zero all of the\n",
        "# gradients for the variables it will update (which are the learnable weights\n",
        "# of the model)\n",
        "optimizer.zero_grad()\n",
        "\n",
        "# Backward pass: compute gradient of the loss with respect to model parameters\n",
        "l.backward()\n",
        "\n",
        "# Calling the step function on an Optimizer makes an update to its parameters\n",
        "optimizer.step()"
      ],
      "execution_count": 0,
      "outputs": []
    },
    {
      "metadata": {
        "id": "vw4q82T2OV4c",
        "colab_type": "text"
      },
      "cell_type": "markdown",
      "source": [
        "Now, let's make another set of predictions and check if our loss is lower:"
      ]
    },
    {
      "metadata": {
        "id": "65MIgQdjOV4d",
        "colab_type": "code",
        "colab": {}
      },
      "cell_type": "code",
      "source": [
        "xt, yt = next(dl)\n",
        "y_pred = net2(Variable(xt).cuda())"
      ],
      "execution_count": 0,
      "outputs": []
    },
    {
      "metadata": {
        "id": "fOJbGuiFOV4d",
        "colab_type": "code",
        "colab": {}
      },
      "cell_type": "code",
      "source": [
        "l = loss(y_pred, Variable(yt).cuda())\n",
        "print(l)"
      ],
      "execution_count": 0,
      "outputs": []
    },
    {
      "metadata": {
        "id": "hS_8QdukOV4e",
        "colab_type": "text"
      },
      "cell_type": "markdown",
      "source": [
        "Note that we are using **stochastic** gradient descent, so the loss is not guaranteed to be strictly better each time.  The stochasticity comes from the fact that we are using **mini-batches**; we are just using 64 images to calculate our prediction and update the weights, not the whole dataset."
      ]
    },
    {
      "metadata": {
        "id": "U4dmduz5OV4e",
        "colab_type": "code",
        "colab": {}
      },
      "cell_type": "code",
      "source": [
        "np.mean(to_np(y_pred).argmax(axis=1) == to_np(yt))"
      ],
      "execution_count": 0,
      "outputs": []
    },
    {
      "metadata": {
        "id": "sjxCGY1dOV4f",
        "colab_type": "text"
      },
      "cell_type": "markdown",
      "source": [
        "If we run several iterations in a loop, we should see the loss decrease and the accuracy increase with time."
      ]
    },
    {
      "metadata": {
        "id": "Sd1TnRBBOV4f",
        "colab_type": "code",
        "colab": {}
      },
      "cell_type": "code",
      "source": [
        "for t in range(100):\n",
        "    xt, yt = next(dl)\n",
        "    y_pred = net2(Variable(xt).cuda())\n",
        "    l = loss(y_pred, Variable(yt).cuda())\n",
        "    \n",
        "    if t % 10 == 0:\n",
        "        accuracy = np.mean(to_np(y_pred).argmax(axis=1) == to_np(yt))\n",
        "        print(\"loss: \", l.data[0], \"\\t accuracy: \", accuracy)\n",
        "\n",
        "    optimizer.zero_grad()\n",
        "    l.backward()\n",
        "    optimizer.step()"
      ],
      "execution_count": 0,
      "outputs": []
    },
    {
      "metadata": {
        "id": "OEYlAilQOV4g",
        "colab_type": "text"
      },
      "cell_type": "markdown",
      "source": [
        "### Put it all together in a training loop"
      ]
    },
    {
      "metadata": {
        "id": "qt9KaQbKOV4g",
        "colab_type": "code",
        "colab": {}
      },
      "cell_type": "code",
      "source": [
        "def score(x, y):\n",
        "    y_pred = to_np(net2(V(x)))\n",
        "    return np.sum(y_pred.argmax(axis=1) == to_np(y))/len(y_pred)"
      ],
      "execution_count": 0,
      "outputs": []
    },
    {
      "metadata": {
        "id": "O29ICbG4OV4h",
        "colab_type": "code",
        "colab": {}
      },
      "cell_type": "code",
      "source": [
        "net2 = LogReg().cuda()\n",
        "loss=nn.NLLLoss()\n",
        "learning_rate = 1e-2\n",
        "optimizer=optim.SGD(net2.parameters(), lr=learning_rate)\n",
        "\n",
        "for epoch in range(1):\n",
        "    losses=[]\n",
        "    dl = iter(md.trn_dl)\n",
        "    for t in dl:\n",
        "        # Forward pass: compute predicted y and loss by passing x to the model.\n",
        "        xt, yt = next(dl)\n",
        "        y_pred = net2(V(xt))\n",
        "        l = loss(y_pred, V(yt))\n",
        "        losses.append(l)\n",
        "\n",
        "        # Before the backward pass, use the optimizer object to zero all of the\n",
        "        # gradients for the variables it will update (which are the learnable weights of the model)\n",
        "        optimizer.zero_grad()\n",
        "\n",
        "        # Backward pass: compute gradient of the loss with respect to model parameters\n",
        "        l.backward()\n",
        "\n",
        "        # Calling the step function on an Optimizer makes an update to its parameters\n",
        "        optimizer.step()\n",
        "    \n",
        "    val_dl = iter(md.val_dl) \n",
        "    val_scores = []\n",
        "    \n",
        "    for valor in val_dl:\n",
        "      val_scores.append(score(*valor))\n",
        "    \n",
        "    #val_scores = [score(*next(val_dl)) for i in range(len(val_dl))]\n",
        "    print(np.mean(val_scores))"
      ],
      "execution_count": 0,
      "outputs": []
    },
    {
      "metadata": {
        "id": "_jEHX0EQOV4h",
        "colab_type": "text"
      },
      "cell_type": "markdown",
      "source": [
        "## Stochastic Gradient Descent"
      ]
    },
    {
      "metadata": {
        "id": "7MBp_q0oOV4h",
        "colab_type": "text"
      },
      "cell_type": "markdown",
      "source": [
        "Nearly all of deep learning is powered by one very important algorithm: **stochastic gradient descent (SGD)**. SGD can be seeing as an approximation of **gradient descent (GD)**. In GD you have to run through all the samples in your training set to do a single itaration. In SGD you use only a subset of training samples to do the update for a parameter in a particular iteration. The subset used in each iteration is called a batch or minibatch.\n",
        "\n",
        "Now, instead of using the optimizer, we will do the optimization ourselves!"
      ]
    },
    {
      "metadata": {
        "id": "K99UNXpcOV4i",
        "colab_type": "code",
        "colab": {}
      },
      "cell_type": "code",
      "source": [
        "net2 = LogReg().cuda()\n",
        "loss_fn=nn.NLLLoss()\n",
        "lr = 1e-2\n",
        "w,b = net2.l1_w,net2.l1_b\n",
        "\n",
        "for epoch in range(1):\n",
        "    losses=[]\n",
        "    dl = iter(md.trn_dl)\n",
        "    for t in dl:\n",
        "        xt, yt = next(dl)\n",
        "        y_pred = net2(V(xt))\n",
        "        l = loss(y_pred, Variable(yt).cuda())\n",
        "        losses.append(loss)\n",
        "\n",
        "        # Backward pass: compute gradient of the loss with respect to model parameters\n",
        "        l.backward()\n",
        "        w.data -= w.grad.data * lr\n",
        "        b.data -= b.grad.data * lr\n",
        "        \n",
        "        w.grad.data.zero_()\n",
        "        b.grad.data.zero_()   \n",
        "\n",
        "    val_dl = iter(md.val_dl)\n",
        "    val_scores = []\n",
        "    \n",
        "    for valor in val_dl:\n",
        "      val_scores.append(score(*valor))\n",
        "    \n",
        "    #val_scores = [score(*next(val_dl)) for i in range(len(val_dl))]\n",
        "    print(np.mean(val_scores))"
      ],
      "execution_count": 0,
      "outputs": []
    }
  ]
}