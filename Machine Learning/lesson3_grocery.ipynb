{
  "nbformat": 4,
  "nbformat_minor": 0,
  "metadata": {
    "colab": {
      "name": "lesson3-grocery.ipynb",
      "provenance": [],
      "collapsed_sections": [],
      "include_colab_link": true
    },
    "kernelspec": {
      "display_name": "Python 3",
      "language": "python",
      "name": "python3"
    }
  },
  "cells": [
    {
      "cell_type": "markdown",
      "metadata": {
        "id": "view-in-github",
        "colab_type": "text"
      },
      "source": [
        "<a href=\"https://colab.research.google.com/github/Giffy/AI_fast.ai/blob/master/Machine%20Learning/lesson3_grocery.ipynb\" target=\"_parent\"><img src=\"https://colab.research.google.com/assets/colab-badge.svg\" alt=\"Open In Colab\"/></a>"
      ]
    },
    {
      "cell_type": "markdown",
      "metadata": {
        "id": "1v33OfLT0wC_",
        "colab_type": "text"
      },
      "source": [
        "**Important: This notebook will only work with fastai-0.7.x. Do not try to run any fastai-1.x code from this path in the repository because it will load fastai-0.7.x**"
      ]
    },
    {
      "cell_type": "markdown",
      "metadata": {
        "id": "yMQFGPAsz9F9",
        "colab_type": "text"
      },
      "source": [
        "# Intro to Random Forests - Favorita Grocery Sales Forecasting "
      ]
    },
    {
      "cell_type": "markdown",
      "metadata": {
        "id": "XxzMAtUg0ypy",
        "colab_type": "text"
      },
      "source": [
        "Notebook based in kaggle competition [Can you accurately predict sales for a large grocery chain?](https://www.kaggle.com/c/favorita-grocery-sales-forecasting)\n",
        "\n",
        "Corporación Favorita has challenged the Kaggle community to build a model that more accurately forecasts product sales.\n",
        "\n",
        "They’re excited to see how machine learning could better ensure they please customers by having just enough of the right products at the right time.\n",
        "\n",
        "In this competition, you will be predicting the unit sales for thousands of items sold at different Favorita stores located in Ecuador. The training data includes dates, store and item information, whether that item was being promoted, as well as the unit sales. Additional files include supplementary information that may be useful in building your models.\n",
        "\n",
        "##File Descriptions and Data Field Information\n",
        "\n",
        "**train.csv**\n",
        "\n",
        "* Training data, which includes the target *unit_sales by date, store_nbr*, and *item_nbr* and a unique *id* to label rows.\n",
        "* The target unit_sales can be integer (e.g., a bag of chips) or float (e.g., 1.5 kg of cheese).\n",
        "* Negative values of unit_sales represent returns of that particular item.\n",
        "* The onpromotion column tells whether that item_nbr was on promotion for a specified date and store_nbr.\n",
        "* Approximately 16% of the onpromotion values in this file are NaN.\n",
        "* **NOTE:** The training data does not include rows for items that had zero unit_sales for a store/date combination. There is no information as to whether or not the item was in stock for the store on the date, and teams will need to decide the best way to handle that situation. Also, there are a small number of items seen in the training data that aren't seen in the test data.\n",
        "\n",
        "\n",
        "**test.csv**\n",
        "\n",
        "* Test data, with the date, store_nbr, item_nbr combinations that are to be predicted, along with the onpromotion information.\n",
        "* **NOTE:** The test data has a small number of items that are not contained in the training data. Part of the exercise will be to predict a new item sales based on similar products..\n",
        "* The public / private leaderboard split is based on time. All items in the public split are also included in the private split.\n"
      ]
    },
    {
      "cell_type": "markdown",
      "metadata": {
        "id": "SepvaI5aUCes",
        "colab_type": "text"
      },
      "source": [
        "# Google Colab setup\n",
        "Installs fast.ai 0.7.0 and the required libraries to run the notebook.\n",
        "\n",
        "Also downloads the required datasets.\n",
        "\n",
        "Train.csv dataset has been reduced in order to store the data sample in Github. \n",
        "\n",
        "Original data file can be downloaded in [kaggle](https://www.kaggle.com/c/favorita-grocery-sales-forecasting/data) (size of compressed file:  474Mb) "
      ]
    },
    {
      "cell_type": "code",
      "metadata": {
        "id": "uZLvPKByUEnE",
        "colab_type": "code",
        "colab": {}
      },
      "source": [
        "print (\" Installing FastAI libraries ... (takes 2 min)\")\n",
        "!pip install fastai==0.7.0 > /dev/null\n",
        "!pip install scikit-learn==0.20 > null\n",
        "print (\"\\n Clonning FastAI repository locally ...\")\n",
        "!git clone https://github.com/fastai/fastai.git fastai_ml\n",
        "!ln -s fastai_ml/courses/ml1/fastai/ fastai"
      ],
      "execution_count": 0,
      "outputs": []
    },
    {
      "cell_type": "code",
      "metadata": {
        "id": "Oe1CdVcBUKFz",
        "colab_type": "code",
        "colab": {}
      },
      "source": [
        "print (\"\\n Installing required libraries...\")\n",
        "!pip install --upgrade setuptools > /dev/null\n",
        "!pip install feather > /dev/null\n",
        "!pip install scikit-misc==0.1.0 > /dev/null\n",
        "!pip install pdpbox==0.2.0 > /dev/null\n",
        "!pip install treeinterpreter==0.2.2 > /dev/null\n",
        "print (\"\\n Downloading datasets...\")\n",
        "!wget https://raw.githubusercontent.com/Giffy/Personal_dataset_repository/master/grocery-sales-train.7z\n",
        "!7z x -y grocery-sales-train.7z > /dev/null\n",
        "!wget https://raw.githubusercontent.com/Giffy/Personal_dataset_repository/master/grocery-sales-test.tar.gz\n",
        "!tar xvf grocery-sales-test.tar.gz > /dev/null\n",
        "print (\"\\n Importing libraries\")\n",
        "import pandas as pd\n",
        "import os\n",
        "import numpy as np"
      ],
      "execution_count": 0,
      "outputs": []
    },
    {
      "cell_type": "markdown",
      "metadata": {
        "_uuid": "d926806e83da165dc5e5cd9fbba3f30e0d36df82",
        "id": "EISU3o0gTfj6",
        "colab_type": "text"
      },
      "source": [
        "# 1 Imports "
      ]
    },
    {
      "cell_type": "code",
      "metadata": {
        "id": "P6xBCVgdTflL",
        "colab_type": "code",
        "colab": {}
      },
      "source": [
        "%load_ext autoreload\n",
        "%autoreload 2\n",
        "%matplotlib inline"
      ],
      "execution_count": 0,
      "outputs": []
    },
    {
      "cell_type": "code",
      "metadata": {
        "_cell_guid": "b1076dfc-b9ad-4769-8c92-a6c4dae69d19",
        "_uuid": "8f2839f25d086af736a60e9eeb907d3b93b6e0e5",
        "id": "ppem6FI-Tfnm",
        "colab_type": "code",
        "colab": {}
      },
      "source": [
        "from fastai.imports import *\n",
        "from fastai.structured import *\n",
        "\n",
        "from sklearn.ensemble import RandomForestRegressor\n",
        "from IPython.display import display\n",
        "\n",
        "from sklearn import metrics"
      ],
      "execution_count": 0,
      "outputs": []
    },
    {
      "cell_type": "code",
      "metadata": {
        "_cell_guid": "79c7e3d0-c299-4dcb-8224-4455121ee9b0",
        "_uuid": "d629ff2d2480ee46fbb7e2d37f6b5fab8052498a",
        "id": "H4h4u4c4TfqM",
        "colab_type": "code",
        "colab": {}
      },
      "source": [
        "PATH = 'grocery-sales/'\n",
        "!ls {PATH}"
      ],
      "execution_count": 0,
      "outputs": []
    },
    {
      "cell_type": "markdown",
      "metadata": {
        "_uuid": "c39551e1aa0b31682c15c2a23c36c6abf83eb4ab",
        "id": "N6oW-YEGTfsZ",
        "colab_type": "text"
      },
      "source": [
        "# 2 Read data"
      ]
    },
    {
      "cell_type": "code",
      "metadata": {
        "_uuid": "7b156ece90949701ee9d03598ac82de92bc04e5c",
        "id": "lmd_mIbKTfs4",
        "colab_type": "code",
        "colab": {}
      },
      "source": [
        "types = {'id': 'int64',\n",
        "        'item_nbr': 'int32',\n",
        "        'store_nbr': 'int8',\n",
        "        'unit_sales': 'float32',\n",
        "        'onpromotion': 'object'}"
      ],
      "execution_count": 0,
      "outputs": []
    },
    {
      "cell_type": "code",
      "metadata": {
        "_uuid": "820a03c2cede08b15a3a034be9afc755ed779816",
        "id": "ihfpeDtXTfuh",
        "colab_type": "code",
        "colab": {}
      },
      "source": [
        "%%time\n",
        "df_all = pd.read_csv(f'{PATH}train_basic.csv', parse_dates=['date'], dtype=types, \n",
        "                     infer_datetime_format=True)#, skiprows=range(1,100000000))"
      ],
      "execution_count": 0,
      "outputs": []
    },
    {
      "cell_type": "code",
      "metadata": {
        "_uuid": "b4c881d08e93f95eba88a232b2bb9485131e2b4e",
        "id": "l4bfOxx6Tfvc",
        "colab_type": "code",
        "colab": {}
      },
      "source": [
        "df_all.onpromotion.fillna(False, inplace=True)\n",
        "df_all.onpromotion = df_all.onpromotion.map({'False': False, 'True': True})\n",
        "df_all.onpromotion = df_all.onpromotion.astype(bool)\n",
        "\n",
        "os.makedirs('tmp', exist_ok=True)\n",
        "%time df_all.to_feather('tmp/raw_groceries')"
      ],
      "execution_count": 0,
      "outputs": []
    },
    {
      "cell_type": "code",
      "metadata": {
        "_uuid": "0f14aba164eab0e77fd8fb23cea60eb951a88b8b",
        "id": "Jrh0wdk0Tfwf",
        "colab_type": "code",
        "colab": {}
      },
      "source": [
        "df_all.drop('Unnamed: 0', axis=1, inplace=True)\n",
        "%time df_all.describe(include='all')"
      ],
      "execution_count": 0,
      "outputs": []
    },
    {
      "cell_type": "code",
      "metadata": {
        "_uuid": "6a44de686ee950f9f9a2bfbf5479af81628e854a",
        "id": "mwXF6wntTfxT",
        "colab_type": "code",
        "colab": {}
      },
      "source": [
        "df_test = pd.read_csv(f'{PATH}test.csv',parse_dates=['date'], dtype=types, infer_datetime_format=True)\n",
        "\n",
        "df_test.onpromotion.fillna(False, inplace=True)\n",
        "df_test.onpromotion = df_all.onpromotion.map({'False': False, 'True': True})\n",
        "df_test.onpromotion = df_all.onpromotion.astype(bool)\n",
        "df_test.describe(include='all')"
      ],
      "execution_count": 0,
      "outputs": []
    },
    {
      "cell_type": "code",
      "metadata": {
        "_uuid": "b015edb1897f5dda284f5a091d1033c31fadc89f",
        "id": "VD4HOcUfTfyn",
        "colab_type": "code",
        "colab": {}
      },
      "source": [
        "df_all.tail()"
      ],
      "execution_count": 0,
      "outputs": []
    },
    {
      "cell_type": "code",
      "metadata": {
        "_uuid": "66b2255b166b0ba9418eaee30dede612e486a742",
        "id": "O-Of3ZFzTf0Q",
        "colab_type": "code",
        "colab": {}
      },
      "source": [
        "df_all.unit_sales = np.log1p(np.clip(df_all.unit_sales, 0, None))"
      ],
      "execution_count": 0,
      "outputs": []
    },
    {
      "cell_type": "code",
      "metadata": {
        "_uuid": "1e674f68916a82ef047dcccddff526d56f5d12d4",
        "id": "rAcNhOoxTf0_",
        "colab_type": "code",
        "colab": {}
      },
      "source": [
        "%time add_datepart(df_all, 'date')"
      ],
      "execution_count": 0,
      "outputs": []
    },
    {
      "cell_type": "code",
      "metadata": {
        "id": "3c9Cvgnn-g8n",
        "colab_type": "code",
        "colab": {}
      },
      "source": [
        "def split_vals(a, n): return a[:n].copy(), a[n:].copy()"
      ],
      "execution_count": 0,
      "outputs": []
    },
    {
      "cell_type": "code",
      "metadata": {
        "_uuid": "fc36971f58f735164f36e2e03e7a88e08b460b77",
        "id": "LTFWXnrRTf1o",
        "colab_type": "code",
        "colab": {}
      },
      "source": [
        "n_valid = len(df_test)\n",
        "n_trn = len(df_all) - n_valid\n",
        "train, valid = split_vals(df_all, n_trn)\n",
        "train.shape, valid.shape"
      ],
      "execution_count": 0,
      "outputs": []
    },
    {
      "cell_type": "code",
      "metadata": {
        "id": "Oe7meG7B-qge",
        "colab_type": "code",
        "colab": {}
      },
      "source": [
        "# train_cats(raw_train)\n",
        "# apply_cats(raw_valid, raw_train)"
      ],
      "execution_count": 0,
      "outputs": []
    },
    {
      "cell_type": "code",
      "metadata": {
        "_uuid": "760b1b85e895738fc0acd843c5c6ef54497b5614",
        "id": "jJoO-sYZTf2a",
        "colab_type": "code",
        "colab": {}
      },
      "source": [
        "%%time\n",
        "trn, y, nas = proc_df(train, 'unit_sales')\n",
        "val, y_val, nas = proc_df(valid, 'unit_sales')"
      ],
      "execution_count": 0,
      "outputs": []
    },
    {
      "cell_type": "markdown",
      "metadata": {
        "_uuid": "2559cfeed3bb2edc75fab43bdc2e3ec5f7e462c4",
        "id": "O8fZS1cuTf3G",
        "colab_type": "text"
      },
      "source": [
        "# 3 Models"
      ]
    },
    {
      "cell_type": "code",
      "metadata": {
        "_uuid": "d9b795bf862355e5864616f6a29529bb6347fd7d",
        "id": "dhpsyabFTf3W",
        "colab_type": "code",
        "colab": {}
      },
      "source": [
        "def rmse(x, y): return math.sqrt(((x-y)**2).mean())\n",
        "\n",
        "def print_score(m):\n",
        "    res = [rmse(m.predict(x), y), rmse(m.predict(val), y_val),\n",
        "          m.score(x, y), m.score(val, y_val)]\n",
        "    if hasattr(m, 'oob_score_'): res.append(m.oob_score_)\n",
        "    print(res)"
      ],
      "execution_count": 0,
      "outputs": []
    },
    {
      "cell_type": "code",
      "metadata": {
        "_uuid": "8bb9ca082b1ba30bc56eafcb23b8c9605be37d11",
        "id": "2XASKHqCTf4C",
        "colab_type": "code",
        "colab": {}
      },
      "source": [
        "set_rf_samples(1000000)"
      ],
      "execution_count": 0,
      "outputs": []
    },
    {
      "cell_type": "code",
      "metadata": {
        "_uuid": "e53570d5cc91dad54601de72a7662bc8d18e728b",
        "id": "hZZi7126Tf4f",
        "colab_type": "code",
        "colab": {}
      },
      "source": [
        "%time x = np.array(trn, dtype=np.float32)"
      ],
      "execution_count": 0,
      "outputs": []
    },
    {
      "cell_type": "code",
      "metadata": {
        "_uuid": "9e15182481a92e93a628fcf5a34b56e0d06075b8",
        "id": "uy5Myf-mTf5g",
        "colab_type": "code",
        "colab": {}
      },
      "source": [
        "# set n_jobs=-1 to use all CPU cores available\n",
        "m = RandomForestRegressor(n_estimators=20, min_samples_leaf=100, n_jobs=-1) \n",
        "%time m.fit(x, y)"
      ],
      "execution_count": 0,
      "outputs": []
    },
    {
      "cell_type": "code",
      "metadata": {
        "_uuid": "422b5358727db6b6475ed7ec0446a177ff407427",
        "id": "hFEdRHTSTf6y",
        "colab_type": "code",
        "colab": {}
      },
      "source": [
        "print_score(m)"
      ],
      "execution_count": 0,
      "outputs": []
    },
    {
      "cell_type": "code",
      "metadata": {
        "_uuid": "f164f30de9eee55ebbd4521aaf01f8587f540ad7",
        "id": "ZAl5CYTQTf7c",
        "colab_type": "code",
        "colab": {}
      },
      "source": [
        "m = RandomForestRegressor(n_estimators=20, min_samples_leaf=10, n_jobs=-1)\n",
        "%time m.fit(x, y)"
      ],
      "execution_count": 0,
      "outputs": []
    },
    {
      "cell_type": "code",
      "metadata": {
        "id": "Hjb7BqibCx3n",
        "colab_type": "code",
        "colab": {}
      },
      "source": [
        "print_score(m)"
      ],
      "execution_count": 0,
      "outputs": []
    },
    {
      "cell_type": "code",
      "metadata": {
        "_uuid": "f0ded0c32510e6ef71767c8f0267916c84b9a63b",
        "id": "eFJ285ELTf8T",
        "colab_type": "code",
        "colab": {}
      },
      "source": [
        "m = RandomForestRegressor(n_estimators=20, min_samples_leaf=3, n_jobs=-1)\n",
        "%time m.fit(x, y)"
      ],
      "execution_count": 0,
      "outputs": []
    },
    {
      "cell_type": "code",
      "metadata": {
        "id": "DEmBTzetCtSB",
        "colab_type": "code",
        "colab": {}
      },
      "source": [
        "%time print_score(m)"
      ],
      "execution_count": 0,
      "outputs": []
    }
  ]
}