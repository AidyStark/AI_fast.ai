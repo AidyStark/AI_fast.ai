{
  "nbformat": 4,
  "nbformat_minor": 0,
  "metadata": {
    "colab": {
      "name": "lesson10_nlp-WorkInProgress.ipynb",
      "version": "0.3.2",
      "provenance": [],
      "collapsed_sections": [],
      "include_colab_link": true
    },
    "kernelspec": {
      "name": "python3",
      "display_name": "Python 3"
    },
    "accelerator": "GPU"
  },
  "cells": [
    {
      "cell_type": "markdown",
      "metadata": {
        "id": "view-in-github",
        "colab_type": "text"
      },
      "source": [
        "<a href=\"https://colab.research.google.com/github/Giffy/fast.ai/blob/master/Machine%20Learning/lesson10_nlp_WorkInProgress.ipynb\" target=\"_parent\"><img src=\"https://colab.research.google.com/assets/colab-badge.svg\" alt=\"Open In Colab\"/></a>"
      ]
    },
    {
      "cell_type": "markdown",
      "metadata": {
        "id": "qXlxQjjYWECI",
        "colab_type": "text"
      },
      "source": [
        "**Important: This notebook will only work with fastai-0.7.x. Do not try to run any fastai-1.x code from this path in the repository because it will load fastai-0.7.x**"
      ]
    },
    {
      "cell_type": "markdown",
      "metadata": {
        "id": "KAb7XDcxWZf4",
        "colab_type": "text"
      },
      "source": [
        "# Google Colab setup\n",
        "Installs fast.ai 0.7.0 and the required libraries to run the notebook.\n",
        "\n",
        "Also downloads the required datasets.\n"
      ]
    },
    {
      "cell_type": "code",
      "metadata": {
        "id": "P6_XaaZWWbLL",
        "colab_type": "code",
        "colab": {}
      },
      "source": [
        "print (\" Installing FastAI libraries...\")\n",
        "!pip install fastai==0.7.0 > /dev/null\n",
        "print (\"\\n Installing required libraries...\")\n",
        "!pip install torchtext==0.2.3 > /dev/null             #   Corrects torch error, accepts Float32 type\n",
        "!git clone https://github.com/fastai/fastai.git fastai_ml\n",
        "!ln -s fastai_ml/courses/ml1/fastai/ fastai\n",
        "print (\"\\n Downloading dataset...\")\n",
        "!wget http://ai.stanford.edu/~amaas/data/sentiment/aclImdb_v1.tar.gz\n",
        "!tar xvf aclImdb_v1.tar.gz > /dev/null"
      ],
      "execution_count": 0,
      "outputs": []
    },
    {
      "cell_type": "code",
      "metadata": {
        "id": "i1ZWGtBfWEDr",
        "colab_type": "code",
        "colab": {}
      },
      "source": [
        "%reload_ext autoreload\n",
        "%autoreload 2\n",
        "%matplotlib inline\n",
        "\n",
        "from fastai.nlp import *\n",
        "from sklearn.linear_model import LogisticRegression"
      ],
      "execution_count": 0,
      "outputs": []
    },
    {
      "cell_type": "markdown",
      "metadata": {
        "id": "Vj80KexNWEFu",
        "colab_type": "text"
      },
      "source": [
        "## IMDB dataset and the sentiment classification task"
      ]
    },
    {
      "cell_type": "markdown",
      "metadata": {
        "id": "_iZkOYMpWEGG",
        "colab_type": "text"
      },
      "source": [
        "The [large movie review dataset](http://ai.stanford.edu/~amaas/data/sentiment/) contains a collection of 50,000 reviews from IMDB. The dataset contains an even number of positive and negative reviews. The authors considered only highly polarized reviews. A negative review has a score ≤ 4 out of 10, and a positive review has a score ≥ 7 out of 10. Neutral reviews are not included in the dataset. The dataset is divided into training and test sets. The training set is the same 25,000 labeled reviews.\n",
        "\n",
        "The **sentiment classification task** consists of predicting the polarity (positive or negative) of a given text.\n",
        "\n",
        "To get the dataset, in your terminal run the following commands:\n",
        "\n",
        "`wget http://ai.stanford.edu/~amaas/data/sentiment/aclImdb_v1.tar.gz`\n",
        "\n",
        "`gunzip aclImdb_v1.tar.gz`\n",
        "\n",
        "`tar -xvf aclImdb_v1.tar`"
      ]
    },
    {
      "cell_type": "markdown",
      "metadata": {
        "id": "ULTILA93WEG8",
        "colab_type": "text"
      },
      "source": [
        "### Tokenizing and term document matrix creation"
      ]
    },
    {
      "cell_type": "code",
      "metadata": {
        "id": "bTfp6T5CWEHj",
        "colab_type": "code",
        "colab": {}
      },
      "source": [
        "PATH='aclImdb/'               # updated path\n",
        "names = ['neg','pos']"
      ],
      "execution_count": 0,
      "outputs": []
    },
    {
      "cell_type": "code",
      "metadata": {
        "id": "qJAAAbNfWELo",
        "colab_type": "code",
        "outputId": "bfeec563-bfef-4838-be00-4f69dd037e72",
        "colab": {
          "base_uri": "https://localhost:8080/",
          "height": 34
        }
      },
      "source": [
        "%ls {PATH}"
      ],
      "execution_count": 4,
      "outputs": [
        {
          "output_type": "stream",
          "text": [
            "imdbEr.txt  imdb.vocab  README  \u001b[0m\u001b[01;34mtest\u001b[0m/  \u001b[01;34mtrain\u001b[0m/\n"
          ],
          "name": "stdout"
        }
      ]
    },
    {
      "cell_type": "code",
      "metadata": {
        "id": "AyCg7HunWENF",
        "colab_type": "code",
        "outputId": "fe2028d4-2108-4fcf-f184-cb89d6f30533",
        "colab": {
          "base_uri": "https://localhost:8080/",
          "height": 52
        }
      },
      "source": [
        "%ls {PATH}train"
      ],
      "execution_count": 5,
      "outputs": [
        {
          "output_type": "stream",
          "text": [
            "labeledBow.feat  \u001b[0m\u001b[01;34mpos\u001b[0m/    unsupBow.feat  urls_pos.txt\n",
            "\u001b[01;34mneg\u001b[0m/             \u001b[01;34munsup\u001b[0m/  urls_neg.txt   urls_unsup.txt\n"
          ],
          "name": "stdout"
        }
      ]
    },
    {
      "cell_type": "code",
      "metadata": {
        "id": "tM3uCoAjWEOj",
        "colab_type": "code",
        "outputId": "b4ebd2db-ce55-472a-cfc2-249f8c92c9a5",
        "colab": {
          "base_uri": "https://localhost:8080/",
          "height": 191
        }
      },
      "source": [
        "%ls {PATH}train/pos | head"
      ],
      "execution_count": 6,
      "outputs": [
        {
          "output_type": "stream",
          "text": [
            "0_9.txt\n",
            "10000_8.txt\n",
            "10001_10.txt\n",
            "10002_7.txt\n",
            "10003_8.txt\n",
            "10004_8.txt\n",
            "10005_7.txt\n",
            "10006_7.txt\n",
            "10007_7.txt\n",
            "10008_7.txt\n"
          ],
          "name": "stdout"
        }
      ]
    },
    {
      "cell_type": "code",
      "metadata": {
        "id": "7MxTXXgTWEQU",
        "colab_type": "code",
        "colab": {}
      },
      "source": [
        "trn,trn_y = texts_labels_from_folders(f'{PATH}train',names)\n",
        "val,val_y = texts_labels_from_folders(f'{PATH}test',names)"
      ],
      "execution_count": 0,
      "outputs": []
    },
    {
      "cell_type": "markdown",
      "metadata": {
        "id": "Ctj8DsT7WERv",
        "colab_type": "text"
      },
      "source": [
        "Here is the text of the first review"
      ]
    },
    {
      "cell_type": "code",
      "metadata": {
        "id": "1W6OKd5HWETS",
        "colab_type": "code",
        "colab": {
          "base_uri": "https://localhost:8080/",
          "height": 54
        },
        "outputId": "537d58ae-78d7-43be-dee4-4089c3eee32e"
      },
      "source": [
        "trn[0]"
      ],
      "execution_count": 8,
      "outputs": [
        {
          "output_type": "execute_result",
          "data": {
            "text/plain": [
              "\"When I go to see a movie about zombie's, I'm not expecting oscar calibre performances, or writing on the level of The Godfather, but I do expect the actors to at least not look like their straining to read their cue cards, and dialogue that doesn't sound like it was typed out 10 minutes before the actor reads it into the camera. This movie was just awful, I actually got up and left about 25 minutes in and went next door and watched Cold Creek Manor, that wasn't very good either, but it seemed like Citizen Kane compared to this pile of crap. On the plus side, the girls were very pretty, that's probably the only thing that kept me in my seat for longer than the first 5 minutes, in fact I left after the hottest one got killed, there wasn't anything to hold my interest after that.\""
            ]
          },
          "metadata": {
            "tags": []
          },
          "execution_count": 8
        }
      ]
    },
    {
      "cell_type": "code",
      "metadata": {
        "id": "xalfKnX_WEU3",
        "colab_type": "code",
        "colab": {
          "base_uri": "https://localhost:8080/",
          "height": 34
        },
        "outputId": "f0be6673-6025-429e-b19c-bd06866c85fa"
      },
      "source": [
        "trn_y[0]"
      ],
      "execution_count": 9,
      "outputs": [
        {
          "output_type": "execute_result",
          "data": {
            "text/plain": [
              "0"
            ]
          },
          "metadata": {
            "tags": []
          },
          "execution_count": 9
        }
      ]
    },
    {
      "cell_type": "markdown",
      "metadata": {
        "id": "uwX9NgUbWEW6",
        "colab_type": "text"
      },
      "source": [
        "[`CountVectorizer`](http://scikit-learn.org/stable/modules/generated/sklearn.feature_extraction.text.CountVectorizer.html) converts a collection of text documents to a matrix of token counts (part of `sklearn.feature_extraction.text`)."
      ]
    },
    {
      "cell_type": "code",
      "metadata": {
        "id": "wmC3XXQyWEXW",
        "colab_type": "code",
        "colab": {}
      },
      "source": [
        "veczr = CountVectorizer(tokenizer=tokenize)"
      ],
      "execution_count": 0,
      "outputs": []
    },
    {
      "cell_type": "markdown",
      "metadata": {
        "id": "vx9Ia-mOWEYN",
        "colab_type": "text"
      },
      "source": [
        "`fit_transform(trn)` finds the vocabulary in the training set. It also transforms the training set into a term-document matrix. Since we have to apply the *same transformation* to your validation set, the second line uses just the method `transform(val)`. `trn_term_doc` and `val_term_doc` are sparse matrices. `trn_term_doc[i]` represents training document i and it contains a count of words for each document for each word in the vocabulary."
      ]
    },
    {
      "cell_type": "code",
      "metadata": {
        "id": "d5mB-h51WEYs",
        "colab_type": "code",
        "colab": {}
      },
      "source": [
        "trn_term_doc = veczr.fit_transform(trn)\n",
        "val_term_doc = veczr.transform(val)"
      ],
      "execution_count": 0,
      "outputs": []
    },
    {
      "cell_type": "code",
      "metadata": {
        "id": "NZADCSa3WEZk",
        "colab_type": "code",
        "colab": {
          "base_uri": "https://localhost:8080/",
          "height": 52
        },
        "outputId": "b7f60daa-b45e-43e6-90f6-d954b20efebf"
      },
      "source": [
        "trn_term_doc"
      ],
      "execution_count": 12,
      "outputs": [
        {
          "output_type": "execute_result",
          "data": {
            "text/plain": [
              "<25000x75132 sparse matrix of type '<class 'numpy.int64'>'\n",
              "\twith 3749745 stored elements in Compressed Sparse Row format>"
            ]
          },
          "metadata": {
            "tags": []
          },
          "execution_count": 12
        }
      ]
    },
    {
      "cell_type": "code",
      "metadata": {
        "id": "7FFVyn2fWEbe",
        "colab_type": "code",
        "outputId": "98b6f1c8-03df-420c-833d-1804e7705044",
        "colab": {
          "base_uri": "https://localhost:8080/",
          "height": 52
        }
      },
      "source": [
        "trn_term_doc[0]"
      ],
      "execution_count": 13,
      "outputs": [
        {
          "output_type": "execute_result",
          "data": {
            "text/plain": [
              "<1x75132 sparse matrix of type '<class 'numpy.int64'>'\n",
              "\twith 108 stored elements in Compressed Sparse Row format>"
            ]
          },
          "metadata": {
            "tags": []
          },
          "execution_count": 13
        }
      ]
    },
    {
      "cell_type": "code",
      "metadata": {
        "id": "NtyI6hm1WEcj",
        "colab_type": "code",
        "outputId": "e64095a8-d2b7-4651-e0af-c6a08b37e8b2",
        "colab": {
          "base_uri": "https://localhost:8080/",
          "height": 34
        }
      },
      "source": [
        "vocab = veczr.get_feature_names(); vocab[5000:5005]"
      ],
      "execution_count": 14,
      "outputs": [
        {
          "output_type": "execute_result",
          "data": {
            "text/plain": [
              "['aussie', 'aussies', 'austen', 'austeniana', 'austens']"
            ]
          },
          "metadata": {
            "tags": []
          },
          "execution_count": 14
        }
      ]
    },
    {
      "cell_type": "code",
      "metadata": {
        "id": "auN1HmKvWEeL",
        "colab_type": "code",
        "colab": {}
      },
      "source": [
        "w0 = set([o.lower() for o in trn[0].split(' ')]); w0"
      ],
      "execution_count": 0,
      "outputs": []
    },
    {
      "cell_type": "code",
      "metadata": {
        "id": "bHr9ixWnWEhV",
        "colab_type": "code",
        "colab": {
          "base_uri": "https://localhost:8080/",
          "height": 34
        },
        "outputId": "3bf6ecb2-ba6c-4cba-82e6-53cd55f332be"
      },
      "source": [
        "len(w0)"
      ],
      "execution_count": 16,
      "outputs": [
        {
          "output_type": "execute_result",
          "data": {
            "text/plain": [
              "106"
            ]
          },
          "metadata": {
            "tags": []
          },
          "execution_count": 16
        }
      ]
    },
    {
      "cell_type": "code",
      "metadata": {
        "id": "jPS6qGwLWEja",
        "colab_type": "code",
        "colab": {
          "base_uri": "https://localhost:8080/",
          "height": 34
        },
        "outputId": "8692df98-f2ad-45d6-c4be-1f1523485711"
      },
      "source": [
        "veczr.vocabulary_['absurd']"
      ],
      "execution_count": 17,
      "outputs": [
        {
          "output_type": "execute_result",
          "data": {
            "text/plain": [
              "1297"
            ]
          },
          "metadata": {
            "tags": []
          },
          "execution_count": 17
        }
      ]
    },
    {
      "cell_type": "code",
      "metadata": {
        "id": "vi9qk-M7WElL",
        "colab_type": "code",
        "colab": {
          "base_uri": "https://localhost:8080/",
          "height": 34
        },
        "outputId": "ea0b8b3a-9040-41a8-8f80-5f01634b05a1"
      },
      "source": [
        "trn_term_doc[0,1297]"
      ],
      "execution_count": 18,
      "outputs": [
        {
          "output_type": "execute_result",
          "data": {
            "text/plain": [
              "array(0)"
            ]
          },
          "metadata": {
            "tags": []
          },
          "execution_count": 18
        }
      ]
    },
    {
      "cell_type": "code",
      "metadata": {
        "id": "1U__CjfNWEnj",
        "colab_type": "code",
        "colab": {
          "base_uri": "https://localhost:8080/",
          "height": 34
        },
        "outputId": "9e2a697f-e38c-45be-faaa-4b9dda3dd181"
      },
      "source": [
        "trn_term_doc[0,5000]"
      ],
      "execution_count": 19,
      "outputs": [
        {
          "output_type": "execute_result",
          "data": {
            "text/plain": [
              "array(0)"
            ]
          },
          "metadata": {
            "tags": []
          },
          "execution_count": 19
        }
      ]
    },
    {
      "cell_type": "markdown",
      "metadata": {
        "id": "eQp8-kaxWEos",
        "colab_type": "text"
      },
      "source": [
        "## Naive Bayes"
      ]
    },
    {
      "cell_type": "markdown",
      "metadata": {
        "id": "5cOdfRxQWEo_",
        "colab_type": "text"
      },
      "source": [
        "We define the **log-count ratio** $r$ for each word $f$:\n",
        "\n",
        "$r = \\log \\frac{\\text{ratio of feature $f$ in positive documents}}{\\text{ratio of feature $f$ in negative documents}}$\n",
        "\n",
        "where ratio of feature $f$ in positive documents is the number of times a positive document has a feature divided by the number of positive documents."
      ]
    },
    {
      "cell_type": "code",
      "metadata": {
        "id": "2AYAEWKzWEpH",
        "colab_type": "code",
        "colab": {}
      },
      "source": [
        "def pr(y_i):\n",
        "    p = x[y==y_i].sum(0)\n",
        "    return (p+1) / ((y==y_i).sum()+1)"
      ],
      "execution_count": 0,
      "outputs": []
    },
    {
      "cell_type": "code",
      "metadata": {
        "id": "eZdaXoLIWEqM",
        "colab_type": "code",
        "colab": {}
      },
      "source": [
        "x=trn_term_doc\n",
        "y=trn_y\n",
        "\n",
        "r = np.log(pr(1)/pr(0))\n",
        "b = np.log((y==1).mean() / (y==0).mean())"
      ],
      "execution_count": 0,
      "outputs": []
    },
    {
      "cell_type": "markdown",
      "metadata": {
        "id": "OahuCNjWWErI",
        "colab_type": "text"
      },
      "source": [
        "Here is the formula for Naive Bayes."
      ]
    },
    {
      "cell_type": "code",
      "metadata": {
        "id": "LWcUpPenWErU",
        "colab_type": "code",
        "colab": {
          "base_uri": "https://localhost:8080/",
          "height": 34
        },
        "outputId": "2f678f60-b73c-451d-c9b1-31f19afd5a78"
      },
      "source": [
        "pre_preds = val_term_doc @ r.T + b\n",
        "preds = pre_preds.T>0\n",
        "(preds==val_y).mean()"
      ],
      "execution_count": 22,
      "outputs": [
        {
          "output_type": "execute_result",
          "data": {
            "text/plain": [
              "0.81656"
            ]
          },
          "metadata": {
            "tags": []
          },
          "execution_count": 22
        }
      ]
    },
    {
      "cell_type": "markdown",
      "metadata": {
        "id": "5B0v83n1WEst",
        "colab_type": "text"
      },
      "source": [
        "...and binarized Naive Bayes."
      ]
    },
    {
      "cell_type": "code",
      "metadata": {
        "id": "n1pfupAvWEto",
        "colab_type": "code",
        "colab": {
          "base_uri": "https://localhost:8080/",
          "height": 34
        },
        "outputId": "18d7267c-98f9-4646-9002-0ab7d7ad5967"
      },
      "source": [
        "x=trn_term_doc.sign()\n",
        "r = np.log(pr(1)/pr(0))\n",
        "\n",
        "pre_preds = val_term_doc.sign() @ r.T + b\n",
        "preds = pre_preds.T>0\n",
        "(preds==val_y).mean()"
      ],
      "execution_count": 23,
      "outputs": [
        {
          "output_type": "execute_result",
          "data": {
            "text/plain": [
              "0.83016"
            ]
          },
          "metadata": {
            "tags": []
          },
          "execution_count": 23
        }
      ]
    },
    {
      "cell_type": "markdown",
      "metadata": {
        "id": "yQQ9l0BOWEvt",
        "colab_type": "text"
      },
      "source": [
        "### Logistic regression"
      ]
    },
    {
      "cell_type": "markdown",
      "metadata": {
        "id": "rIAL92UpWEwG",
        "colab_type": "text"
      },
      "source": [
        "Here is how we can fit logistic regression where the features are the unigrams."
      ]
    },
    {
      "cell_type": "code",
      "metadata": {
        "id": "9obmlgeqWEwc",
        "colab_type": "code",
        "colab": {
          "base_uri": "https://localhost:8080/",
          "height": 69
        },
        "outputId": "5f29311a-4e1a-4dcd-c195-f8a2e76458c9"
      },
      "source": [
        "m = LogisticRegression(C=1e8, dual=True, solver='liblinear')\n",
        "m.fit(x, y)\n",
        "preds = m.predict(val_term_doc)\n",
        "(preds==val_y).mean()"
      ],
      "execution_count": 24,
      "outputs": [
        {
          "output_type": "stream",
          "text": [
            "/usr/local/lib/python3.6/dist-packages/sklearn/svm/base.py:929: ConvergenceWarning: Liblinear failed to converge, increase the number of iterations.\n",
            "  \"the number of iterations.\", ConvergenceWarning)\n"
          ],
          "name": "stderr"
        },
        {
          "output_type": "execute_result",
          "data": {
            "text/plain": [
              "0.83316"
            ]
          },
          "metadata": {
            "tags": []
          },
          "execution_count": 24
        }
      ]
    },
    {
      "cell_type": "code",
      "metadata": {
        "id": "aWrTRoxcWEw8",
        "colab_type": "code",
        "colab": {
          "base_uri": "https://localhost:8080/",
          "height": 69
        },
        "outputId": "71606a76-4845-4836-9e2b-f09ac906a22b"
      },
      "source": [
        "m = LogisticRegression(C=1e8, dual=True, solver='liblinear')\n",
        "m.fit(trn_term_doc.sign(), y)\n",
        "preds = m.predict(val_term_doc.sign())\n",
        "(preds==val_y).mean()"
      ],
      "execution_count": 25,
      "outputs": [
        {
          "output_type": "stream",
          "text": [
            "/usr/local/lib/python3.6/dist-packages/sklearn/svm/base.py:929: ConvergenceWarning: Liblinear failed to converge, increase the number of iterations.\n",
            "  \"the number of iterations.\", ConvergenceWarning)\n"
          ],
          "name": "stderr"
        },
        {
          "output_type": "execute_result",
          "data": {
            "text/plain": [
              "0.85504"
            ]
          },
          "metadata": {
            "tags": []
          },
          "execution_count": 25
        }
      ]
    },
    {
      "cell_type": "markdown",
      "metadata": {
        "id": "fosCYRtcWEyE",
        "colab_type": "text"
      },
      "source": [
        "...and the regularized version"
      ]
    },
    {
      "cell_type": "code",
      "metadata": {
        "id": "hu21tS9sWEyS",
        "colab_type": "code",
        "colab": {
          "base_uri": "https://localhost:8080/",
          "height": 34
        },
        "outputId": "bda01478-2394-420f-a5e6-6a03aaa31c67"
      },
      "source": [
        "m = LogisticRegression(C=0.1, dual=True, solver='liblinear')\n",
        "m.fit(x, y)\n",
        "preds = m.predict(val_term_doc)\n",
        "(preds==val_y).mean()"
      ],
      "execution_count": 26,
      "outputs": [
        {
          "output_type": "execute_result",
          "data": {
            "text/plain": [
              "0.84872"
            ]
          },
          "metadata": {
            "tags": []
          },
          "execution_count": 26
        }
      ]
    },
    {
      "cell_type": "code",
      "metadata": {
        "id": "hXvWGLrOWEze",
        "colab_type": "code",
        "colab": {
          "base_uri": "https://localhost:8080/",
          "height": 34
        },
        "outputId": "d3e30262-8956-4e34-f632-4b17a531b995"
      },
      "source": [
        "m = LogisticRegression(C=0.1, dual=True, solver='liblinear')\n",
        "m.fit(trn_term_doc.sign(), y)\n",
        "preds = m.predict(val_term_doc.sign())\n",
        "(preds==val_y).mean()"
      ],
      "execution_count": 27,
      "outputs": [
        {
          "output_type": "execute_result",
          "data": {
            "text/plain": [
              "0.88404"
            ]
          },
          "metadata": {
            "tags": []
          },
          "execution_count": 27
        }
      ]
    },
    {
      "cell_type": "markdown",
      "metadata": {
        "id": "YdvuGsaMWE0F",
        "colab_type": "text"
      },
      "source": [
        "### Trigram with NB features"
      ]
    },
    {
      "cell_type": "markdown",
      "metadata": {
        "id": "xp9ipcQAWE0Q",
        "colab_type": "text"
      },
      "source": [
        "Our next model is a version of logistic regression with Naive Bayes features described [here](https://www.aclweb.org/anthology/P12-2018). For every document we compute binarized features as described above, but this time we use bigrams and trigrams too. Each feature is a log-count ratio. A logistic regression model is then trained to predict sentiment."
      ]
    },
    {
      "cell_type": "code",
      "metadata": {
        "id": "dpvQjNr6WE0b",
        "colab_type": "code",
        "colab": {}
      },
      "source": [
        "veczr =  CountVectorizer(ngram_range=(1,3), tokenizer=tokenize, max_features=800000)\n",
        "trn_term_doc = veczr.fit_transform(trn)\n",
        "val_term_doc = veczr.transform(val)"
      ],
      "execution_count": 0,
      "outputs": []
    },
    {
      "cell_type": "code",
      "metadata": {
        "id": "1AAGsMtSWE1X",
        "colab_type": "code",
        "colab": {
          "base_uri": "https://localhost:8080/",
          "height": 34
        },
        "outputId": "148dbd23-55bf-4f8f-b91a-8dad3f75ac9a"
      },
      "source": [
        "trn_term_doc.shape"
      ],
      "execution_count": 29,
      "outputs": [
        {
          "output_type": "execute_result",
          "data": {
            "text/plain": [
              "(25000, 800000)"
            ]
          },
          "metadata": {
            "tags": []
          },
          "execution_count": 29
        }
      ]
    },
    {
      "cell_type": "code",
      "metadata": {
        "id": "PMOmpGTkWE3d",
        "colab_type": "code",
        "colab": {}
      },
      "source": [
        "vocab = veczr.get_feature_names()"
      ],
      "execution_count": 0,
      "outputs": []
    },
    {
      "cell_type": "code",
      "metadata": {
        "id": "g7saqHPRWE4v",
        "colab_type": "code",
        "colab": {
          "base_uri": "https://localhost:8080/",
          "height": 34
        },
        "outputId": "208464b8-a725-443e-fe88-25dda5d34b80"
      },
      "source": [
        "vocab[200000:200005]"
      ],
      "execution_count": 31,
      "outputs": [
        {
          "output_type": "execute_result",
          "data": {
            "text/plain": [
              "['by vast', 'by vengeance', 'by vengeance .', 'by vera', 'by vera miles']"
            ]
          },
          "metadata": {
            "tags": []
          },
          "execution_count": 31
        }
      ]
    },
    {
      "cell_type": "code",
      "metadata": {
        "id": "x6aYV7O0WE7U",
        "colab_type": "code",
        "colab": {}
      },
      "source": [
        "y=trn_y\n",
        "x=trn_term_doc.sign()\n",
        "val_x = val_term_doc.sign()"
      ],
      "execution_count": 0,
      "outputs": []
    },
    {
      "cell_type": "code",
      "metadata": {
        "id": "uv1nK5obWE8K",
        "colab_type": "code",
        "colab": {}
      },
      "source": [
        "r = np.log(pr(1) / pr(0))\n",
        "b = np.log((y==1).mean() / (y==0).mean())"
      ],
      "execution_count": 0,
      "outputs": []
    },
    {
      "cell_type": "markdown",
      "metadata": {
        "id": "hrWu_D_FWE8g",
        "colab_type": "text"
      },
      "source": [
        "Here we fit regularized logistic regression where the features are the trigrams."
      ]
    },
    {
      "cell_type": "code",
      "metadata": {
        "id": "Vu5sZoDwWE8r",
        "colab_type": "code",
        "colab": {
          "base_uri": "https://localhost:8080/",
          "height": 89
        },
        "outputId": "ac6cf44f-bb2c-4331-9dcd-0de12148fc0f"
      },
      "source": [
        "m = LogisticRegression(C=0.1, dual=True)\n",
        "m.fit(x, y);\n",
        "\n",
        "preds = m.predict(val_x)\n",
        "(preds.T==val_y).mean()"
      ],
      "execution_count": 34,
      "outputs": [
        {
          "output_type": "stream",
          "text": [
            "/usr/local/lib/python3.6/dist-packages/sklearn/linear_model/logistic.py:432: FutureWarning: Default solver will be changed to 'lbfgs' in 0.22. Specify a solver to silence this warning.\n",
            "  FutureWarning)\n"
          ],
          "name": "stderr"
        },
        {
          "output_type": "execute_result",
          "data": {
            "text/plain": [
              "0.905"
            ]
          },
          "metadata": {
            "tags": []
          },
          "execution_count": 34
        }
      ]
    },
    {
      "cell_type": "markdown",
      "metadata": {
        "id": "f3LJjj6DWE9i",
        "colab_type": "text"
      },
      "source": [
        "Here is the $\\text{log-count ratio}$ `r`.  "
      ]
    },
    {
      "cell_type": "code",
      "metadata": {
        "id": "gYXIIx3yWE9z",
        "colab_type": "code",
        "colab": {
          "base_uri": "https://localhost:8080/",
          "height": 52
        },
        "outputId": "15fa3654-3e1b-42c0-8518-68e46758cff3"
      },
      "source": [
        "r.shape, r"
      ],
      "execution_count": 35,
      "outputs": [
        {
          "output_type": "execute_result",
          "data": {
            "text/plain": [
              "((1, 800000),\n",
              " matrix([[-0.05468, -0.161  , -0.24784, ...,  1.09861, -0.69315, -0.69315]]))"
            ]
          },
          "metadata": {
            "tags": []
          },
          "execution_count": 35
        }
      ]
    },
    {
      "cell_type": "code",
      "metadata": {
        "id": "7qOtzZ80WE-b",
        "colab_type": "code",
        "colab": {
          "base_uri": "https://localhost:8080/",
          "height": 34
        },
        "outputId": "7ca8e363-9059-4e79-d966-bb1ec5ef1bdd"
      },
      "source": [
        "np.exp(r)"
      ],
      "execution_count": 36,
      "outputs": [
        {
          "output_type": "execute_result",
          "data": {
            "text/plain": [
              "matrix([[0.94678, 0.85129, 0.78049, ..., 3.     , 0.5    , 0.5    ]])"
            ]
          },
          "metadata": {
            "tags": []
          },
          "execution_count": 36
        }
      ]
    },
    {
      "cell_type": "markdown",
      "metadata": {
        "id": "g-GaI3nrWE-2",
        "colab_type": "text"
      },
      "source": [
        "Here we fit regularized logistic regression where the features are the trigrams' log-count ratios."
      ]
    },
    {
      "cell_type": "code",
      "metadata": {
        "id": "hDNlYmyeWE-9",
        "colab_type": "code",
        "colab": {
          "base_uri": "https://localhost:8080/",
          "height": 34
        },
        "outputId": "95d068c1-59cd-4607-90d5-2d9e5c06223e"
      },
      "source": [
        "x_nb = x.multiply(r)\n",
        "m = LogisticRegression(dual=True, C=0.1, solver='liblinear')   ## Added solver due to FutureWarning\n",
        "m.fit(x_nb, y);\n",
        "\n",
        "val_x_nb = val_x.multiply(r)\n",
        "preds = m.predict(val_x_nb)\n",
        "(preds.T==val_y).mean()"
      ],
      "execution_count": 37,
      "outputs": [
        {
          "output_type": "execute_result",
          "data": {
            "text/plain": [
              "0.91768"
            ]
          },
          "metadata": {
            "tags": []
          },
          "execution_count": 37
        }
      ]
    },
    {
      "cell_type": "markdown",
      "metadata": {
        "id": "5NtPHNs0WE_f",
        "colab_type": "text"
      },
      "source": [
        "## fastai NBSVM++"
      ]
    },
    {
      "cell_type": "code",
      "metadata": {
        "id": "jXfTiZ44WE_p",
        "colab_type": "code",
        "colab": {}
      },
      "source": [
        "sl=2000"
      ],
      "execution_count": 0,
      "outputs": []
    },
    {
      "cell_type": "code",
      "metadata": {
        "id": "92m5qBeRWFAB",
        "colab_type": "code",
        "colab": {}
      },
      "source": [
        "# Here is how we get a model from a bag of words\n",
        "md = TextClassifierData.from_bow(trn_term_doc, trn_y, val_term_doc, val_y, sl)"
      ],
      "execution_count": 0,
      "outputs": []
    },
    {
      "cell_type": "code",
      "metadata": {
        "id": "tQYRpVNgWFAX",
        "colab_type": "code",
        "colab": {}
      },
      "source": [
        "learner = md.dotprod_nb_learner()\n",
        "learner.fit(0.02, 1, wds=1e-6, cycle_len=1)"
      ],
      "execution_count": 0,
      "outputs": []
    },
    {
      "cell_type": "code",
      "metadata": {
        "id": "2f3PBwkPWFBO",
        "colab_type": "code",
        "colab": {}
      },
      "source": [
        "learner.fit(0.02, 2, wds=1e-6, cycle_len=1)"
      ],
      "execution_count": 0,
      "outputs": []
    },
    {
      "cell_type": "code",
      "metadata": {
        "id": "jSYvrunTWFCr",
        "colab_type": "code",
        "colab": {}
      },
      "source": [
        "learner.fit(0.02, 2, wds=1e-6, cycle_len=1)"
      ],
      "execution_count": 0,
      "outputs": []
    },
    {
      "cell_type": "markdown",
      "metadata": {
        "id": "rin7Uy4LWFGE",
        "colab_type": "text"
      },
      "source": [
        "## References"
      ]
    },
    {
      "cell_type": "markdown",
      "metadata": {
        "id": "KP3qM-E5WFGe",
        "colab_type": "text"
      },
      "source": [
        "* Baselines and Bigrams: Simple, Good Sentiment and Topic Classification. Sida Wang and Christopher D. Manning [pdf](https://www.aclweb.org/anthology/P12-2018)"
      ]
    }
  ]
}