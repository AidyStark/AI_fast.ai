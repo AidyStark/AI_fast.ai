{
  "nbformat": 4,
  "nbformat_minor": 0,
  "metadata": {
    "colab": {
      "name": "lesson3-grocery.ipynb",
      "version": "0.3.2",
      "provenance": [],
      "include_colab_link": true
    },
    "kernelspec": {
      "display_name": "Python 3",
      "language": "python",
      "name": "python3"
    }
  },
  "cells": [
    {
      "cell_type": "markdown",
      "metadata": {
        "id": "view-in-github",
        "colab_type": "text"
      },
      "source": [
        "<a href=\"https://colab.research.google.com/github/Giffy/fast.ai/blob/master/Machine%20Learning/lesson3_grocery.ipynb\" target=\"_parent\"><img src=\"https://colab.research.google.com/assets/colab-badge.svg\" alt=\"Open In Colab\"/></a>"
      ]
    },
    {
      "metadata": {
        "id": "1v33OfLT0wC_",
        "colab_type": "text"
      },
      "cell_type": "markdown",
      "source": [
        "**Important: This notebook will only work with fastai-0.7.x. Do not try to run any fastai-1.x code from this path in the repository because it will load fastai-0.7.x**"
      ]
    },
    {
      "metadata": {
        "id": "yMQFGPAsz9F9",
        "colab_type": "text"
      },
      "cell_type": "markdown",
      "source": [
        "# Intro to Random Forests - Favorita Grocery Sales Forecasting "
      ]
    },
    {
      "metadata": {
        "id": "XxzMAtUg0ypy",
        "colab_type": "text"
      },
      "cell_type": "markdown",
      "source": [
        "Notebook based in kaggle competition [Can you accurately predict sales for a large grocery chain?](https://www.kaggle.com/c/favorita-grocery-sales-forecasting)\n",
        "\n",
        "Corporación Favorita has challenged the Kaggle community to build a model that more accurately forecasts product sales.\n",
        "\n",
        "They’re excited to see how machine learning could better ensure they please customers by having just enough of the right products at the right time.\n",
        "\n",
        "In this competition, you will be predicting the unit sales for thousands of items sold at different Favorita stores located in Ecuador. The training data includes dates, store and item information, whether that item was being promoted, as well as the unit sales. Additional files include supplementary information that may be useful in building your models.\n",
        "\n",
        "##File Descriptions and Data Field Information\n",
        "\n",
        "**train.csv**\n",
        "\n",
        "* Training data, which includes the target unit_sales by date, store_nbr, and item_nbr and a unique id to label rows.\n",
        "* The target unit_sales can be integer (e.g., a bag of chips) or float (e.g., 1.5 kg of cheese).\n",
        "* Negative values of unit_sales represent returns of that particular item.\n",
        "* The onpromotion column tells whether that item_nbr was on promotion for a specified date and store_nbr.\n",
        "* Approximately 16% of the onpromotion values in this file are NaN.\n",
        "* **NOTE:** The training data does not include rows for items that had zero unit_sales for a store/date combination. There is no information as to whether or not the item was in stock for the store on the date, and teams will need to decide the best way to handle that situation. Also, there are a small number of items seen in the training data that aren't seen in the test data.\n",
        "\n",
        "\n",
        "**test.csv**\n",
        "\n",
        "* Test data, with the date, store_nbr, item_nbr combinations that are to be predicted, along with the onpromotion information.\n",
        "* **NOTE:** The test data has a small number of items that are not contained in the training data. Part of the exercise will be to predict a new item sales based on similar products..\n",
        "* The public / private leaderboard split is based on time. All items in the public split are also included in the private split.\n"
      ]
    },
    {
      "metadata": {
        "id": "SepvaI5aUCes",
        "colab_type": "text"
      },
      "cell_type": "markdown",
      "source": [
        "# Google Colab setup\n",
        "Installs fast.ai 0.7.0 and the required libraries to run the notebook.\n",
        "\n",
        "Also downloads the required datasets.\n",
        "\n",
        "Train.csv dataset has been reduced in order to store the data sample in Github. \n",
        "\n",
        "Original data file can be downloaded in [kaggle](https://www.kaggle.com/c/favorita-grocery-sales-forecasting/data) (size of compressed file:  474Mb) "
      ]
    },
    {
      "metadata": {
        "id": "uZLvPKByUEnE",
        "colab_type": "code",
        "outputId": "63a71618-863a-4d53-d90f-13b2de90b994",
        "colab": {
          "base_uri": "https://localhost:8080/",
          "height": 237
        }
      },
      "cell_type": "code",
      "source": [
        "print (\" Installing FastAI libraries ... (takes 2 min)\")\n",
        "!pip install fastai==0.7.0 > /dev/null\n",
        "print (\"\\n Clonning FastAI repository locally ...\")\n",
        "!git clone https://github.com/fastai/fastai.git fastai_ml\n",
        "!ln -s fastai_ml/courses/ml1/fastai/ fastai"
      ],
      "execution_count": 0,
      "outputs": [
        {
          "output_type": "stream",
          "text": [
            " Installing FastAI libraries ... (takes 2 min)\n",
            "\u001b[31mtorchvision 0.2.1 has requirement pillow>=4.1.1, but you'll have pillow 4.0.0 which is incompatible.\u001b[0m\n",
            "\u001b[31mmizani 0.5.3 has requirement pandas>=0.23.4, but you'll have pandas 0.22.0 which is incompatible.\u001b[0m\n",
            "\u001b[31mplotnine 0.5.1 has requirement pandas>=0.23.4, but you'll have pandas 0.22.0 which is incompatible.\u001b[0m\n",
            "\n",
            " Clonning FastAI repository locally ...\n",
            "Cloning into 'fastai_ml'...\n",
            "remote: Enumerating objects: 23411, done.\u001b[K\n",
            "remote: Total 23411 (delta 0), reused 0 (delta 0), pack-reused 23411\u001b[K\n",
            "Receiving objects: 100% (23411/23411), 374.71 MiB | 31.10 MiB/s, done.\n",
            "Resolving deltas: 100% (16495/16495), done.\n",
            "Checking out files: 100% (758/758), done.\n"
          ],
          "name": "stdout"
        }
      ]
    },
    {
      "metadata": {
        "id": "Oe1CdVcBUKFz",
        "colab_type": "code",
        "outputId": "557c9a41-c16f-40d9-9d6e-ccce569cb988",
        "colab": {
          "base_uri": "https://localhost:8080/",
          "height": 550
        }
      },
      "cell_type": "code",
      "source": [
        "print (\"\\n Installing required libraries...\")\n",
        "!pip install --upgrade setuptools > /dev/null\n",
        "!pip install feather > /dev/null\n",
        "!pip install scikit-misc==0.1.0 > /dev/null\n",
        "!pip install pdpbox==0.2.0 > /dev/null\n",
        "!pip install treeinterpreter==0.2.2 > /dev/null\n",
        "print (\"\\n Downloading datasets...\")\n",
        "!wget https://raw.githubusercontent.com/Giffy/Personal_dataset_repository/master/grocery-sales-train.7z\n",
        "!7z x -y grocery-sales-train.7z > /dev/null\n",
        "!wget https://raw.githubusercontent.com/Giffy/Personal_dataset_repository/master/grocery-sales-test.tar.gz\n",
        "!tar xvf grocery-sales-test.tar.gz > /dev/null\n",
        "print (\"\\n Importing libraries\")\n",
        "import pandas as pd\n",
        "import os\n",
        "import numpy as np"
      ],
      "execution_count": 0,
      "outputs": [
        {
          "output_type": "stream",
          "text": [
            "\n",
            " Installing required libraries...\n",
            "\u001b[31mCommand \"python setup.py egg_info\" failed with error code 1 in /tmp/pip-install-752iq1m6/feather/\u001b[0m\n",
            "\n",
            " Downloading datasets...\n",
            "--2019-02-14 17:36:40--  https://raw.githubusercontent.com/Giffy/Personal_dataset_repository/master/grocery-sales-train.7z\n",
            "Resolving raw.githubusercontent.com (raw.githubusercontent.com)... 151.101.0.133, 151.101.64.133, 151.101.128.133, ...\n",
            "Connecting to raw.githubusercontent.com (raw.githubusercontent.com)|151.101.0.133|:443... connected.\n",
            "HTTP request sent, awaiting response... 200 OK\n",
            "Length: 23818196 (23M) [application/octet-stream]\n",
            "Saving to: ‘grocery-sales-train.7z’\n",
            "\n",
            "grocery-sales-train 100%[===================>]  22.71M   110MB/s    in 0.2s    \n",
            "\n",
            "2019-02-14 17:36:41 (110 MB/s) - ‘grocery-sales-train.7z’ saved [23818196/23818196]\n",
            "\n",
            "--2019-02-14 17:36:45--  https://raw.githubusercontent.com/Giffy/Personal_dataset_repository/master/grocery-sales-test.tar.gz\n",
            "Resolving raw.githubusercontent.com (raw.githubusercontent.com)... 151.101.0.133, 151.101.64.133, 151.101.128.133, ...\n",
            "Connecting to raw.githubusercontent.com (raw.githubusercontent.com)|151.101.0.133|:443... connected.\n",
            "HTTP request sent, awaiting response... 200 OK\n",
            "Length: 20306349 (19M) [application/octet-stream]\n",
            "Saving to: ‘grocery-sales-test.tar.gz’\n",
            "\n",
            "grocery-sales-test. 100%[===================>]  19.37M  96.2MB/s    in 0.2s    \n",
            "\n",
            "2019-02-14 17:36:46 (96.2 MB/s) - ‘grocery-sales-test.tar.gz’ saved [20306349/20306349]\n",
            "\n",
            "\n",
            " Importing libraries\n"
          ],
          "name": "stdout"
        }
      ]
    },
    {
      "metadata": {
        "_uuid": "d926806e83da165dc5e5cd9fbba3f30e0d36df82",
        "id": "EISU3o0gTfj6",
        "colab_type": "text"
      },
      "cell_type": "markdown",
      "source": [
        "# 1 Imports "
      ]
    },
    {
      "metadata": {
        "id": "P6xBCVgdTflL",
        "colab_type": "code",
        "colab": {}
      },
      "cell_type": "code",
      "source": [
        "%load_ext autoreload\n",
        "%autoreload 2\n",
        "%matplotlib inline"
      ],
      "execution_count": 0,
      "outputs": []
    },
    {
      "metadata": {
        "_cell_guid": "b1076dfc-b9ad-4769-8c92-a6c4dae69d19",
        "_uuid": "8f2839f25d086af736a60e9eeb907d3b93b6e0e5",
        "id": "ppem6FI-Tfnm",
        "colab_type": "code",
        "colab": {}
      },
      "cell_type": "code",
      "source": [
        "from fastai.imports import *\n",
        "from fastai.structured import *\n",
        "\n",
        "from sklearn.ensemble import RandomForestRegressor\n",
        "from IPython.display import display\n",
        "\n",
        "from sklearn import metrics"
      ],
      "execution_count": 0,
      "outputs": []
    },
    {
      "metadata": {
        "_cell_guid": "79c7e3d0-c299-4dcb-8224-4455121ee9b0",
        "_uuid": "d629ff2d2480ee46fbb7e2d37f6b5fab8052498a",
        "id": "H4h4u4c4TfqM",
        "colab_type": "code",
        "outputId": "51448458-59d5-48bf-8490-1adfc95b8da0",
        "colab": {
          "base_uri": "https://localhost:8080/",
          "height": 35
        }
      },
      "cell_type": "code",
      "source": [
        "PATH = 'grocery-sales/'\n",
        "!ls {PATH}"
      ],
      "execution_count": 0,
      "outputs": [
        {
          "output_type": "stream",
          "text": [
            "test.csv  train_basic.csv\n"
          ],
          "name": "stdout"
        }
      ]
    },
    {
      "metadata": {
        "_uuid": "c39551e1aa0b31682c15c2a23c36c6abf83eb4ab",
        "id": "N6oW-YEGTfsZ",
        "colab_type": "text"
      },
      "cell_type": "markdown",
      "source": [
        "# 2 Read data"
      ]
    },
    {
      "metadata": {
        "_uuid": "7b156ece90949701ee9d03598ac82de92bc04e5c",
        "id": "lmd_mIbKTfs4",
        "colab_type": "code",
        "colab": {}
      },
      "cell_type": "code",
      "source": [
        "types = {\n",
        "    'id': 'int64',\n",
        "    'item_nbr': 'int32',\n",
        "    'store_nbr': 'int8',\n",
        "    'unit_sales': 'float32',\n",
        "    'onpromotion': 'object'\n",
        "}"
      ],
      "execution_count": 0,
      "outputs": []
    },
    {
      "metadata": {
        "_uuid": "820a03c2cede08b15a3a034be9afc755ed779816",
        "id": "ihfpeDtXTfuh",
        "colab_type": "code",
        "outputId": "3bf901ca-da43-4b79-daea-c116ffb04ef1",
        "colab": {
          "base_uri": "https://localhost:8080/",
          "height": 54
        }
      },
      "cell_type": "code",
      "source": [
        "%%time\n",
        "df_all = pd.read_csv(f'{PATH}train_basic.csv', parse_dates=['date'], dtype=types, \n",
        "                     infer_datetime_format=True)#, skiprows=range(1,100000000))"
      ],
      "execution_count": 0,
      "outputs": [
        {
          "output_type": "stream",
          "text": [
            "CPU times: user 2.58 s, sys: 140 ms, total: 2.72 s\n",
            "Wall time: 2.74 s\n"
          ],
          "name": "stdout"
        }
      ]
    },
    {
      "metadata": {
        "_uuid": "b4c881d08e93f95eba88a232b2bb9485131e2b4e",
        "id": "l4bfOxx6Tfvc",
        "colab_type": "code",
        "outputId": "6b7a9f65-ceed-4f24-fa1f-30c941940bd3",
        "colab": {
          "base_uri": "https://localhost:8080/",
          "height": 54
        }
      },
      "cell_type": "code",
      "source": [
        "df_all.onpromotion.fillna(False, inplace=True)\n",
        "df_all.onpromotion = df_all.onpromotion.map({'False': False, 'True': True})\n",
        "df_all.onpromotion = df_all.onpromotion.astype(bool)\n",
        "\n",
        "os.makedirs('tmp', exist_ok=True)\n",
        "%time df_all.to_feather('tmp/raw_groceries')"
      ],
      "execution_count": 0,
      "outputs": [
        {
          "output_type": "stream",
          "text": [
            "CPU times: user 71.1 ms, sys: 67.7 ms, total: 139 ms\n",
            "Wall time: 414 ms\n"
          ],
          "name": "stdout"
        }
      ]
    },
    {
      "metadata": {
        "_uuid": "0f14aba164eab0e77fd8fb23cea60eb951a88b8b",
        "id": "Jrh0wdk0Tfwf",
        "colab_type": "code",
        "outputId": "7876408f-35a2-40c1-ee69-45cbb99fa274",
        "colab": {
          "base_uri": "https://localhost:8080/",
          "height": 494
        }
      },
      "cell_type": "code",
      "source": [
        "%time df_all.describe(include='all')"
      ],
      "execution_count": 0,
      "outputs": [
        {
          "output_type": "stream",
          "text": [
            "CPU times: user 832 ms, sys: 486 µs, total: 833 ms\n",
            "Wall time: 857 ms\n"
          ],
          "name": "stdout"
        },
        {
          "output_type": "execute_result",
          "data": {
            "text/html": [
              "<div>\n",
              "<style scoped>\n",
              "    .dataframe tbody tr th:only-of-type {\n",
              "        vertical-align: middle;\n",
              "    }\n",
              "\n",
              "    .dataframe tbody tr th {\n",
              "        vertical-align: top;\n",
              "    }\n",
              "\n",
              "    .dataframe thead th {\n",
              "        text-align: right;\n",
              "    }\n",
              "</style>\n",
              "<table border=\"1\" class=\"dataframe\">\n",
              "  <thead>\n",
              "    <tr style=\"text-align: right;\">\n",
              "      <th></th>\n",
              "      <th>Unnamed: 0</th>\n",
              "      <th>id</th>\n",
              "      <th>date</th>\n",
              "      <th>store_nbr</th>\n",
              "      <th>item_nbr</th>\n",
              "      <th>unit_sales</th>\n",
              "      <th>onpromotion</th>\n",
              "    </tr>\n",
              "  </thead>\n",
              "  <tbody>\n",
              "    <tr>\n",
              "      <th>count</th>\n",
              "      <td>1.997040e+06</td>\n",
              "      <td>1.997040e+06</td>\n",
              "      <td>1997040</td>\n",
              "      <td>1.997040e+06</td>\n",
              "      <td>1.997040e+06</td>\n",
              "      <td>1.997040e+06</td>\n",
              "      <td>1997040</td>\n",
              "    </tr>\n",
              "    <tr>\n",
              "      <th>unique</th>\n",
              "      <td>NaN</td>\n",
              "      <td>NaN</td>\n",
              "      <td>1684</td>\n",
              "      <td>NaN</td>\n",
              "      <td>NaN</td>\n",
              "      <td>NaN</td>\n",
              "      <td>2</td>\n",
              "    </tr>\n",
              "    <tr>\n",
              "      <th>top</th>\n",
              "      <td>NaN</td>\n",
              "      <td>NaN</td>\n",
              "      <td>2017-05-07 00:00:00</td>\n",
              "      <td>NaN</td>\n",
              "      <td>NaN</td>\n",
              "      <td>NaN</td>\n",
              "      <td>False</td>\n",
              "    </tr>\n",
              "    <tr>\n",
              "      <th>freq</th>\n",
              "      <td>NaN</td>\n",
              "      <td>NaN</td>\n",
              "      <td>1908</td>\n",
              "      <td>NaN</td>\n",
              "      <td>NaN</td>\n",
              "      <td>NaN</td>\n",
              "      <td>1528448</td>\n",
              "    </tr>\n",
              "    <tr>\n",
              "      <th>first</th>\n",
              "      <td>NaN</td>\n",
              "      <td>NaN</td>\n",
              "      <td>2013-01-01 00:00:00</td>\n",
              "      <td>NaN</td>\n",
              "      <td>NaN</td>\n",
              "      <td>NaN</td>\n",
              "      <td>NaN</td>\n",
              "    </tr>\n",
              "    <tr>\n",
              "      <th>last</th>\n",
              "      <td>NaN</td>\n",
              "      <td>NaN</td>\n",
              "      <td>2017-08-15 00:00:00</td>\n",
              "      <td>NaN</td>\n",
              "      <td>NaN</td>\n",
              "      <td>NaN</td>\n",
              "      <td>NaN</td>\n",
              "    </tr>\n",
              "    <tr>\n",
              "      <th>mean</th>\n",
              "      <td>2.449852e+07</td>\n",
              "      <td>6.271723e+07</td>\n",
              "      <td>NaN</td>\n",
              "      <td>2.745692e+01</td>\n",
              "      <td>9.728621e+05</td>\n",
              "      <td>8.551911e+00</td>\n",
              "      <td>NaN</td>\n",
              "    </tr>\n",
              "    <tr>\n",
              "      <th>std</th>\n",
              "      <td>5.764959e+05</td>\n",
              "      <td>3.619772e+07</td>\n",
              "      <td>NaN</td>\n",
              "      <td>1.633284e+01</td>\n",
              "      <td>5.202940e+05</td>\n",
              "      <td>2.057796e+01</td>\n",
              "      <td>NaN</td>\n",
              "    </tr>\n",
              "    <tr>\n",
              "      <th>min</th>\n",
              "      <td>2.350000e+07</td>\n",
              "      <td>2.060000e+02</td>\n",
              "      <td>NaN</td>\n",
              "      <td>1.000000e+00</td>\n",
              "      <td>9.699500e+04</td>\n",
              "      <td>-1.768000e+03</td>\n",
              "      <td>NaN</td>\n",
              "    </tr>\n",
              "    <tr>\n",
              "      <th>25%</th>\n",
              "      <td>2.399926e+07</td>\n",
              "      <td>3.138601e+07</td>\n",
              "      <td>NaN</td>\n",
              "      <td>1.200000e+01</td>\n",
              "      <td>5.227210e+05</td>\n",
              "      <td>2.000000e+00</td>\n",
              "      <td>NaN</td>\n",
              "    </tr>\n",
              "    <tr>\n",
              "      <th>50%</th>\n",
              "      <td>2.449852e+07</td>\n",
              "      <td>6.269716e+07</td>\n",
              "      <td>NaN</td>\n",
              "      <td>2.800000e+01</td>\n",
              "      <td>9.595020e+05</td>\n",
              "      <td>4.000000e+00</td>\n",
              "      <td>NaN</td>\n",
              "    </tr>\n",
              "    <tr>\n",
              "      <th>75%</th>\n",
              "      <td>2.499778e+07</td>\n",
              "      <td>9.402764e+07</td>\n",
              "      <td>NaN</td>\n",
              "      <td>4.300000e+01</td>\n",
              "      <td>1.354380e+06</td>\n",
              "      <td>9.000000e+00</td>\n",
              "      <td>NaN</td>\n",
              "    </tr>\n",
              "    <tr>\n",
              "      <th>max</th>\n",
              "      <td>2.549704e+07</td>\n",
              "      <td>1.254970e+08</td>\n",
              "      <td>NaN</td>\n",
              "      <td>5.400000e+01</td>\n",
              "      <td>2.127114e+06</td>\n",
              "      <td>6.909000e+03</td>\n",
              "      <td>NaN</td>\n",
              "    </tr>\n",
              "  </tbody>\n",
              "</table>\n",
              "</div>"
            ],
            "text/plain": [
              "          Unnamed: 0            id                 date     store_nbr  \\\n",
              "count   1.997040e+06  1.997040e+06              1997040  1.997040e+06   \n",
              "unique           NaN           NaN                 1684           NaN   \n",
              "top              NaN           NaN  2017-05-07 00:00:00           NaN   \n",
              "freq             NaN           NaN                 1908           NaN   \n",
              "first            NaN           NaN  2013-01-01 00:00:00           NaN   \n",
              "last             NaN           NaN  2017-08-15 00:00:00           NaN   \n",
              "mean    2.449852e+07  6.271723e+07                  NaN  2.745692e+01   \n",
              "std     5.764959e+05  3.619772e+07                  NaN  1.633284e+01   \n",
              "min     2.350000e+07  2.060000e+02                  NaN  1.000000e+00   \n",
              "25%     2.399926e+07  3.138601e+07                  NaN  1.200000e+01   \n",
              "50%     2.449852e+07  6.269716e+07                  NaN  2.800000e+01   \n",
              "75%     2.499778e+07  9.402764e+07                  NaN  4.300000e+01   \n",
              "max     2.549704e+07  1.254970e+08                  NaN  5.400000e+01   \n",
              "\n",
              "            item_nbr    unit_sales onpromotion  \n",
              "count   1.997040e+06  1.997040e+06     1997040  \n",
              "unique           NaN           NaN           2  \n",
              "top              NaN           NaN       False  \n",
              "freq             NaN           NaN     1528448  \n",
              "first            NaN           NaN         NaN  \n",
              "last             NaN           NaN         NaN  \n",
              "mean    9.728621e+05  8.551911e+00         NaN  \n",
              "std     5.202940e+05  2.057796e+01         NaN  \n",
              "min     9.699500e+04 -1.768000e+03         NaN  \n",
              "25%     5.227210e+05  2.000000e+00         NaN  \n",
              "50%     9.595020e+05  4.000000e+00         NaN  \n",
              "75%     1.354380e+06  9.000000e+00         NaN  \n",
              "max     2.127114e+06  6.909000e+03         NaN  "
            ]
          },
          "metadata": {
            "tags": []
          },
          "execution_count": 9
        }
      ]
    },
    {
      "metadata": {
        "_uuid": "6a44de686ee950f9f9a2bfbf5479af81628e854a",
        "id": "mwXF6wntTfxT",
        "colab_type": "code",
        "outputId": "f58704b1-d39f-4534-a4d3-c9a1926b0738",
        "colab": {
          "base_uri": "https://localhost:8080/",
          "height": 457
        }
      },
      "cell_type": "code",
      "source": [
        "df_test = pd.read_csv(f'{PATH}test.csv',parse_dates=['date'], dtype=types, infer_datetime_format=True)\n",
        "\n",
        "df_test.onpromotion.fillna(False, inplace=True)\n",
        "df_test.onpromotion = df_all.onpromotion.map({'False': False, 'True': True})\n",
        "df_test.onpromotion = df_all.onpromotion.astype(bool)\n",
        "df_test.describe(include='all')"
      ],
      "execution_count": 0,
      "outputs": [
        {
          "output_type": "execute_result",
          "data": {
            "text/html": [
              "<div>\n",
              "<style scoped>\n",
              "    .dataframe tbody tr th:only-of-type {\n",
              "        vertical-align: middle;\n",
              "    }\n",
              "\n",
              "    .dataframe tbody tr th {\n",
              "        vertical-align: top;\n",
              "    }\n",
              "\n",
              "    .dataframe thead th {\n",
              "        text-align: right;\n",
              "    }\n",
              "</style>\n",
              "<table border=\"1\" class=\"dataframe\">\n",
              "  <thead>\n",
              "    <tr style=\"text-align: right;\">\n",
              "      <th></th>\n",
              "      <th>id</th>\n",
              "      <th>date</th>\n",
              "      <th>store_nbr</th>\n",
              "      <th>item_nbr</th>\n",
              "      <th>onpromotion</th>\n",
              "    </tr>\n",
              "  </thead>\n",
              "  <tbody>\n",
              "    <tr>\n",
              "      <th>count</th>\n",
              "      <td>3.370464e+06</td>\n",
              "      <td>3370464</td>\n",
              "      <td>3.370464e+06</td>\n",
              "      <td>3.370464e+06</td>\n",
              "      <td>1997040</td>\n",
              "    </tr>\n",
              "    <tr>\n",
              "      <th>unique</th>\n",
              "      <td>NaN</td>\n",
              "      <td>16</td>\n",
              "      <td>NaN</td>\n",
              "      <td>NaN</td>\n",
              "      <td>2</td>\n",
              "    </tr>\n",
              "    <tr>\n",
              "      <th>top</th>\n",
              "      <td>NaN</td>\n",
              "      <td>2017-08-27 00:00:00</td>\n",
              "      <td>NaN</td>\n",
              "      <td>NaN</td>\n",
              "      <td>False</td>\n",
              "    </tr>\n",
              "    <tr>\n",
              "      <th>freq</th>\n",
              "      <td>NaN</td>\n",
              "      <td>210654</td>\n",
              "      <td>NaN</td>\n",
              "      <td>NaN</td>\n",
              "      <td>1528448</td>\n",
              "    </tr>\n",
              "    <tr>\n",
              "      <th>first</th>\n",
              "      <td>NaN</td>\n",
              "      <td>2017-08-16 00:00:00</td>\n",
              "      <td>NaN</td>\n",
              "      <td>NaN</td>\n",
              "      <td>NaN</td>\n",
              "    </tr>\n",
              "    <tr>\n",
              "      <th>last</th>\n",
              "      <td>NaN</td>\n",
              "      <td>2017-08-31 00:00:00</td>\n",
              "      <td>NaN</td>\n",
              "      <td>NaN</td>\n",
              "      <td>NaN</td>\n",
              "    </tr>\n",
              "    <tr>\n",
              "      <th>mean</th>\n",
              "      <td>1.271823e+08</td>\n",
              "      <td>NaN</td>\n",
              "      <td>2.750000e+01</td>\n",
              "      <td>1.244798e+06</td>\n",
              "      <td>NaN</td>\n",
              "    </tr>\n",
              "    <tr>\n",
              "      <th>std</th>\n",
              "      <td>9.729693e+05</td>\n",
              "      <td>NaN</td>\n",
              "      <td>1.558579e+01</td>\n",
              "      <td>5.898362e+05</td>\n",
              "      <td>NaN</td>\n",
              "    </tr>\n",
              "    <tr>\n",
              "      <th>min</th>\n",
              "      <td>1.254970e+08</td>\n",
              "      <td>NaN</td>\n",
              "      <td>1.000000e+00</td>\n",
              "      <td>9.699500e+04</td>\n",
              "      <td>NaN</td>\n",
              "    </tr>\n",
              "    <tr>\n",
              "      <th>25%</th>\n",
              "      <td>1.263397e+08</td>\n",
              "      <td>NaN</td>\n",
              "      <td>1.400000e+01</td>\n",
              "      <td>8.053210e+05</td>\n",
              "      <td>NaN</td>\n",
              "    </tr>\n",
              "    <tr>\n",
              "      <th>50%</th>\n",
              "      <td>1.271823e+08</td>\n",
              "      <td>NaN</td>\n",
              "      <td>2.750000e+01</td>\n",
              "      <td>1.294665e+06</td>\n",
              "      <td>NaN</td>\n",
              "    </tr>\n",
              "    <tr>\n",
              "      <th>75%</th>\n",
              "      <td>1.280249e+08</td>\n",
              "      <td>NaN</td>\n",
              "      <td>4.100000e+01</td>\n",
              "      <td>1.730015e+06</td>\n",
              "      <td>NaN</td>\n",
              "    </tr>\n",
              "    <tr>\n",
              "      <th>max</th>\n",
              "      <td>1.288675e+08</td>\n",
              "      <td>NaN</td>\n",
              "      <td>5.400000e+01</td>\n",
              "      <td>2.134244e+06</td>\n",
              "      <td>NaN</td>\n",
              "    </tr>\n",
              "  </tbody>\n",
              "</table>\n",
              "</div>"
            ],
            "text/plain": [
              "                  id                 date     store_nbr      item_nbr  \\\n",
              "count   3.370464e+06              3370464  3.370464e+06  3.370464e+06   \n",
              "unique           NaN                   16           NaN           NaN   \n",
              "top              NaN  2017-08-27 00:00:00           NaN           NaN   \n",
              "freq             NaN               210654           NaN           NaN   \n",
              "first            NaN  2017-08-16 00:00:00           NaN           NaN   \n",
              "last             NaN  2017-08-31 00:00:00           NaN           NaN   \n",
              "mean    1.271823e+08                  NaN  2.750000e+01  1.244798e+06   \n",
              "std     9.729693e+05                  NaN  1.558579e+01  5.898362e+05   \n",
              "min     1.254970e+08                  NaN  1.000000e+00  9.699500e+04   \n",
              "25%     1.263397e+08                  NaN  1.400000e+01  8.053210e+05   \n",
              "50%     1.271823e+08                  NaN  2.750000e+01  1.294665e+06   \n",
              "75%     1.280249e+08                  NaN  4.100000e+01  1.730015e+06   \n",
              "max     1.288675e+08                  NaN  5.400000e+01  2.134244e+06   \n",
              "\n",
              "       onpromotion  \n",
              "count      1997040  \n",
              "unique           2  \n",
              "top          False  \n",
              "freq       1528448  \n",
              "first          NaN  \n",
              "last           NaN  \n",
              "mean           NaN  \n",
              "std            NaN  \n",
              "min            NaN  \n",
              "25%            NaN  \n",
              "50%            NaN  \n",
              "75%            NaN  \n",
              "max            NaN  "
            ]
          },
          "metadata": {
            "tags": []
          },
          "execution_count": 10
        }
      ]
    },
    {
      "metadata": {
        "_uuid": "b015edb1897f5dda284f5a091d1033c31fadc89f",
        "id": "VD4HOcUfTfyn",
        "colab_type": "code",
        "outputId": "624d01b5-6152-47b5-acbd-8755656bade9",
        "colab": {
          "base_uri": "https://localhost:8080/",
          "height": 206
        }
      },
      "cell_type": "code",
      "source": [
        "df_all.tail()"
      ],
      "execution_count": 0,
      "outputs": [
        {
          "output_type": "execute_result",
          "data": {
            "text/html": [
              "<div>\n",
              "<style scoped>\n",
              "    .dataframe tbody tr th:only-of-type {\n",
              "        vertical-align: middle;\n",
              "    }\n",
              "\n",
              "    .dataframe tbody tr th {\n",
              "        vertical-align: top;\n",
              "    }\n",
              "\n",
              "    .dataframe thead th {\n",
              "        text-align: right;\n",
              "    }\n",
              "</style>\n",
              "<table border=\"1\" class=\"dataframe\">\n",
              "  <thead>\n",
              "    <tr style=\"text-align: right;\">\n",
              "      <th></th>\n",
              "      <th>Unnamed: 0</th>\n",
              "      <th>id</th>\n",
              "      <th>date</th>\n",
              "      <th>store_nbr</th>\n",
              "      <th>item_nbr</th>\n",
              "      <th>unit_sales</th>\n",
              "      <th>onpromotion</th>\n",
              "    </tr>\n",
              "  </thead>\n",
              "  <tbody>\n",
              "    <tr>\n",
              "      <th>1997035</th>\n",
              "      <td>25497035</td>\n",
              "      <td>73734366</td>\n",
              "      <td>2016-03-18</td>\n",
              "      <td>54</td>\n",
              "      <td>1464238</td>\n",
              "      <td>22.0</td>\n",
              "      <td>False</td>\n",
              "    </tr>\n",
              "    <tr>\n",
              "      <th>1997036</th>\n",
              "      <td>25497036</td>\n",
              "      <td>101679247</td>\n",
              "      <td>2016-12-31</td>\n",
              "      <td>49</td>\n",
              "      <td>1489899</td>\n",
              "      <td>29.0</td>\n",
              "      <td>True</td>\n",
              "    </tr>\n",
              "    <tr>\n",
              "      <th>1997037</th>\n",
              "      <td>25497037</td>\n",
              "      <td>124420242</td>\n",
              "      <td>2017-08-05</td>\n",
              "      <td>38</td>\n",
              "      <td>849080</td>\n",
              "      <td>2.0</td>\n",
              "      <td>False</td>\n",
              "    </tr>\n",
              "    <tr>\n",
              "      <th>1997038</th>\n",
              "      <td>25497038</td>\n",
              "      <td>35980557</td>\n",
              "      <td>2014-11-25</td>\n",
              "      <td>31</td>\n",
              "      <td>1463798</td>\n",
              "      <td>3.0</td>\n",
              "      <td>False</td>\n",
              "    </tr>\n",
              "    <tr>\n",
              "      <th>1997039</th>\n",
              "      <td>25497039</td>\n",
              "      <td>85369289</td>\n",
              "      <td>2016-07-18</td>\n",
              "      <td>28</td>\n",
              "      <td>362035</td>\n",
              "      <td>14.0</td>\n",
              "      <td>False</td>\n",
              "    </tr>\n",
              "  </tbody>\n",
              "</table>\n",
              "</div>"
            ],
            "text/plain": [
              "         Unnamed: 0         id       date  store_nbr  item_nbr  unit_sales  \\\n",
              "1997035    25497035   73734366 2016-03-18         54   1464238        22.0   \n",
              "1997036    25497036  101679247 2016-12-31         49   1489899        29.0   \n",
              "1997037    25497037  124420242 2017-08-05         38    849080         2.0   \n",
              "1997038    25497038   35980557 2014-11-25         31   1463798         3.0   \n",
              "1997039    25497039   85369289 2016-07-18         28    362035        14.0   \n",
              "\n",
              "         onpromotion  \n",
              "1997035        False  \n",
              "1997036         True  \n",
              "1997037        False  \n",
              "1997038        False  \n",
              "1997039        False  "
            ]
          },
          "metadata": {
            "tags": []
          },
          "execution_count": 11
        }
      ]
    },
    {
      "metadata": {
        "_uuid": "66b2255b166b0ba9418eaee30dede612e486a742",
        "id": "O-Of3ZFzTf0Q",
        "colab_type": "code",
        "colab": {}
      },
      "cell_type": "code",
      "source": [
        "df_all.unit_sales = np.log1p(np.clip(df_all.unit_sales, 0, None))"
      ],
      "execution_count": 0,
      "outputs": []
    },
    {
      "metadata": {
        "_uuid": "1e674f68916a82ef047dcccddff526d56f5d12d4",
        "id": "rAcNhOoxTf0_",
        "colab_type": "code",
        "outputId": "8e227184-574c-4525-be3f-fa5a497c0f50",
        "colab": {
          "base_uri": "https://localhost:8080/",
          "height": 54
        }
      },
      "cell_type": "code",
      "source": [
        "%time add_datepart(df_all, 'date')"
      ],
      "execution_count": 0,
      "outputs": [
        {
          "output_type": "stream",
          "text": [
            "CPU times: user 1.74 s, sys: 255 ms, total: 2 s\n",
            "Wall time: 2 s\n"
          ],
          "name": "stdout"
        }
      ]
    },
    {
      "metadata": {
        "_uuid": "fc36971f58f735164f36e2e03e7a88e08b460b77",
        "id": "LTFWXnrRTf1o",
        "colab_type": "code",
        "outputId": "f6b4e8c8-e6af-49a2-86a9-02b65f597e75",
        "colab": {
          "base_uri": "https://localhost:8080/",
          "height": 35
        }
      },
      "cell_type": "code",
      "source": [
        "def split_vals(a, n): return a[:n].copy(), a[n:].copy()\n",
        "\n",
        "n_valid = len(df_test)\n",
        "n_trn = len(df_all) - n_valid\n",
        "train, valid = split_vals(df_all, n_trn)\n",
        "train.shape, valid.shape"
      ],
      "execution_count": 0,
      "outputs": [
        {
          "output_type": "execute_result",
          "data": {
            "text/plain": [
              "((623616, 19), (1373424, 19))"
            ]
          },
          "metadata": {
            "tags": []
          },
          "execution_count": 14
        }
      ]
    },
    {
      "metadata": {
        "_uuid": "760b1b85e895738fc0acd843c5c6ef54497b5614",
        "id": "jJoO-sYZTf2a",
        "colab_type": "code",
        "outputId": "f0f441e3-b49d-4b19-ab44-0888f9a65938",
        "colab": {
          "base_uri": "https://localhost:8080/",
          "height": 54
        }
      },
      "cell_type": "code",
      "source": [
        "%%time\n",
        "trn, y, nas = proc_df(train, 'unit_sales')\n",
        "val, y_val, nas = proc_df(valid, 'unit_sales')"
      ],
      "execution_count": 0,
      "outputs": [
        {
          "output_type": "stream",
          "text": [
            "CPU times: user 1.04 s, sys: 232 ms, total: 1.27 s\n",
            "Wall time: 1.27 s\n"
          ],
          "name": "stdout"
        }
      ]
    },
    {
      "metadata": {
        "_uuid": "2559cfeed3bb2edc75fab43bdc2e3ec5f7e462c4",
        "id": "O8fZS1cuTf3G",
        "colab_type": "text"
      },
      "cell_type": "markdown",
      "source": [
        "# 3 Models"
      ]
    },
    {
      "metadata": {
        "_uuid": "d9b795bf862355e5864616f6a29529bb6347fd7d",
        "id": "dhpsyabFTf3W",
        "colab_type": "code",
        "colab": {}
      },
      "cell_type": "code",
      "source": [
        "def rmse(x, y): return math.sqrt(((x-y)**2).mean())\n",
        "\n",
        "def print_score(m):\n",
        "    res = [rmse(m.predict(x), y), rmse(m.predict(val), y_val),\n",
        "          m.score(x, y), m.score(val, y_val)]\n",
        "    if hasattr(m, 'oob_score_'): res.append(m.oob_score_)\n",
        "    print(res)"
      ],
      "execution_count": 0,
      "outputs": []
    },
    {
      "metadata": {
        "_uuid": "8bb9ca082b1ba30bc56eafcb23b8c9605be37d11",
        "id": "2XASKHqCTf4C",
        "colab_type": "code",
        "colab": {}
      },
      "cell_type": "code",
      "source": [
        "set_rf_samples(1000000)"
      ],
      "execution_count": 0,
      "outputs": []
    },
    {
      "metadata": {
        "_uuid": "e53570d5cc91dad54601de72a7662bc8d18e728b",
        "id": "hZZi7126Tf4f",
        "colab_type": "code",
        "outputId": "a66a55df-5c2e-4c47-af58-dd1be01da786",
        "colab": {
          "base_uri": "https://localhost:8080/",
          "height": 54
        }
      },
      "cell_type": "code",
      "source": [
        "%time x = np.array(trn, dtype=np.float32)"
      ],
      "execution_count": 0,
      "outputs": [
        {
          "output_type": "stream",
          "text": [
            "CPU times: user 586 ms, sys: 75.9 ms, total: 662 ms\n",
            "Wall time: 663 ms\n"
          ],
          "name": "stdout"
        }
      ]
    },
    {
      "metadata": {
        "_uuid": "9e15182481a92e93a628fcf5a34b56e0d06075b8",
        "id": "uy5Myf-mTf5g",
        "colab_type": "code",
        "outputId": "4ad5e86b-82ca-4010-b736-d6bf665e6d87",
        "colab": {
          "base_uri": "https://localhost:8080/",
          "height": 164
        }
      },
      "cell_type": "code",
      "source": [
        "m = RandomForestRegressor(n_estimators=20, min_samples_leaf=100, n_jobs=-1)\n",
        "%time m.fit(x, y)"
      ],
      "execution_count": 0,
      "outputs": [
        {
          "output_type": "stream",
          "text": [
            "CPU times: user 3min 8s, sys: 47.6 ms, total: 3min 8s\n",
            "Wall time: 1min 34s\n"
          ],
          "name": "stdout"
        },
        {
          "output_type": "execute_result",
          "data": {
            "text/plain": [
              "RandomForestRegressor(bootstrap=True, criterion='mse', max_depth=None,\n",
              "           max_features='auto', max_leaf_nodes=None,\n",
              "           min_impurity_decrease=0.0, min_impurity_split=None,\n",
              "           min_samples_leaf=100, min_samples_split=2,\n",
              "           min_weight_fraction_leaf=0.0, n_estimators=20, n_jobs=-1,\n",
              "           oob_score=False, random_state=None, verbose=0, warm_start=False)"
            ]
          },
          "metadata": {
            "tags": []
          },
          "execution_count": 19
        }
      ]
    },
    {
      "metadata": {
        "_uuid": "422b5358727db6b6475ed7ec0446a177ff407427",
        "id": "hFEdRHTSTf6y",
        "colab_type": "code",
        "outputId": "6df8ad55-3a58-4aa3-9ea0-3bce8d0a1af8",
        "colab": {
          "base_uri": "https://localhost:8080/",
          "height": 35
        }
      },
      "cell_type": "code",
      "source": [
        "print_score(m)"
      ],
      "execution_count": 0,
      "outputs": [
        {
          "output_type": "stream",
          "text": [
            "[0.7751660488750103, 0.7933491325274509, 0.22885525419923247, 0.18939474725506789]\n"
          ],
          "name": "stdout"
        }
      ]
    },
    {
      "metadata": {
        "_uuid": "f164f30de9eee55ebbd4521aaf01f8587f540ad7",
        "id": "ZAl5CYTQTf7c",
        "colab_type": "code",
        "outputId": "0002c365-6ecb-4a0b-8e55-013141303c75",
        "colab": {
          "base_uri": "https://localhost:8080/",
          "height": 72
        }
      },
      "cell_type": "code",
      "source": [
        "m = RandomForestRegressor(n_estimators=20, min_samples_leaf=10, n_jobs=-1)\n",
        "%time m.fit(x, y)\n",
        "print_score(m)"
      ],
      "execution_count": 0,
      "outputs": [
        {
          "output_type": "stream",
          "text": [
            "CPU times: user 4min 10s, sys: 76.7 ms, total: 4min 10s\n",
            "Wall time: 2min 5s\n",
            "[0.5955681632494816, 0.7689149145027334, 0.5447925450732758, 0.23855720592124596]\n"
          ],
          "name": "stdout"
        }
      ]
    },
    {
      "metadata": {
        "_uuid": "f0ded0c32510e6ef71767c8f0267916c84b9a63b",
        "id": "eFJ285ELTf8T",
        "colab_type": "code",
        "outputId": "6ab94e5a-c73e-4082-ffa3-a2f12a6dc67d",
        "colab": {
          "base_uri": "https://localhost:8080/",
          "height": 72
        }
      },
      "cell_type": "code",
      "source": [
        "m = RandomForestRegressor(n_estimators=20, min_samples_leaf=3, n_jobs=2)\n",
        "%time m.fit(x, y)\n",
        "print_score(m)"
      ],
      "execution_count": 0,
      "outputs": [
        {
          "output_type": "stream",
          "text": [
            "CPU times: user 4min 37s, sys: 157 ms, total: 4min 37s\n",
            "Wall time: 2min 19s\n",
            "[0.3672129902421545, 0.7925169046500011, 0.8269456621416778, 0.19109451455114923]\n"
          ],
          "name": "stdout"
        }
      ]
    }
  ]
}